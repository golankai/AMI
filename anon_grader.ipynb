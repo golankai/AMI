{
 "cells": [
  {
   "cell_type": "code",
   "execution_count": 1,
   "metadata": {},
   "outputs": [],
   "source": [
    "import os\n",
    "import pandas as pd\n",
    "import numpy as np\n",
    "from sklearn.model_selection import train_test_split\n",
    "\n",
    "import torch as th\n",
    "\n",
    "from transformers import TrainingArguments\n",
    "from transformers import RobertaTokenizerFast, RobertaForSequenceClassification, RobertaConfig\n",
    "\n",
    "\n",
    "from utils import train_grader_model, prepare_grader_data"
   ]
  },
  {
   "cell_type": "code",
   "execution_count": 2,
   "metadata": {},
   "outputs": [
    {
     "data": {
      "text/plain": [
       "<torch._C.Generator at 0x14989907ef0>"
      ]
     },
     "execution_count": 2,
     "metadata": {},
     "output_type": "execute_result"
    }
   ],
   "source": [
    "# Set up environment\n",
    "DEVICE = \"cuda\" if th.cuda.is_available() else \"cpu\"\n",
    "DEBUG = True\n",
    "study_number = 1\n",
    "data_dir = f\"textwash_data/study{study_number}/intruder_test/full_data_study.csv\"\n",
    "trained_model_path = f\"./trained_models/anon_grader.pt\"\n",
    "# Cancel wandb logging\n",
    "os.environ[\"WANDB_DISABLED\"] = \"true\"\n",
    "\n",
    "# Set seeds\n",
    "SEED = 42\n",
    "np.random.seed(SEED)\n",
    "th.manual_seed(SEED)"
   ]
  },
  {
   "cell_type": "code",
   "execution_count": 3,
   "metadata": {},
   "outputs": [
    {
     "name": "stderr",
     "output_type": "stream",
     "text": [
      "Using the `WANDB_DISABLED` environment variable is deprecated and will be removed in v5. Use the --report_to flag to control the integrations used for logging result (for instance --report_to none).\n"
     ]
    }
   ],
   "source": [
    "# Set up the training arguments\n",
    "training_args = TrainingArguments(\n",
    "    output_dir='./results',\n",
    "    num_train_epochs=1,\n",
    "    per_device_train_batch_size=8,\n",
    "    per_device_eval_batch_size=16,\n",
    "    logging_dir='./logs',\n",
    "    loggng_strategy='steps',\n",
    "    logging_steps=10,\n",
    "    evaluation_strategy='epoch',\n",
    "    num_train_epochs=3,\n",
    "    save_total_limit=1,\n",
    "    save_strategy='no',\n",
    "    load_best_model_at_end=True,\n",
    "    report_to=\"tensorboard\"\n",
    "    )"
   ]
  },
  {
   "cell_type": "code",
   "execution_count": 4,
   "metadata": {},
   "outputs": [],
   "source": [
    "# Read the data\n",
    "columns_to_read = [\"type\", \"text\", \"file_id\", \"name\", \"got_name_truth_q1\"]\n",
    "raw_data = pd.read_csv(data_dir, usecols=columns_to_read).rename(columns={\"got_name_truth_q1\": \"re_identify\"})"
   ]
  },
  {
   "cell_type": "code",
   "execution_count": 5,
   "metadata": {},
   "outputs": [],
   "source": [
    "# Aggregate by file_id and calculate the rate of re-identification\n",
    "data = raw_data.groupby([\"type\", \"file_id\", \"name\", \"text\"]).agg({\"re_identify\": \"mean\"}).reset_index()\n"
   ]
  },
  {
   "cell_type": "code",
   "execution_count": 6,
   "metadata": {},
   "outputs": [],
   "source": [
    "datasets, tokenizer = prepare_grader_data(data, SEED, DEVICE)"
   ]
  },
  {
   "cell_type": "code",
   "execution_count": 7,
   "metadata": {},
   "outputs": [
    {
     "name": "stderr",
     "output_type": "stream",
     "text": [
      "Some weights of RobertaForSequenceClassification were not initialized from the model checkpoint at roberta-base and are newly initialized: ['classifier.dense.bias', 'classifier.dense.weight', 'classifier.out_proj.bias', 'classifier.out_proj.weight']\n",
      "You should probably TRAIN this model on a down-stream task to be able to use it for predictions and inference.\n",
      "Epoch:   0%|          | 0/1 [00:00<?, ?it/s]"
     ]
    },
    {
     "data": {
      "application/vnd.jupyter.widget-view+json": {
       "model_id": "2668e6c9b05e4f83a3d63b0d1ff38f9c",
       "version_major": 2,
       "version_minor": 0
      },
      "text/plain": [
       "  0%|          | 0/120 [00:00<?, ?it/s]"
      ]
     },
     "metadata": {},
     "output_type": "display_data"
    },
    {
     "data": {
      "application/vnd.jupyter.widget-view+json": {
       "model_id": "c05bc7da70904fe597d504ee9e4d0493",
       "version_major": 2,
       "version_minor": 0
      },
      "text/plain": [
       "  0%|          | 0/8 [00:00<?, ?it/s]"
      ]
     },
     "metadata": {},
     "output_type": "display_data"
    },
    {
     "name": "stderr",
     "output_type": "stream",
     "text": [
      "Epoch:   0%|          | 0/1 [35:27<?, ?it/s]"
     ]
    },
    {
     "name": "stdout",
     "output_type": "stream",
     "text": [
      "{'eval_loss': 0.08179844170808792, 'eval_runtime': 232.0557, 'eval_samples_per_second': 0.517, 'eval_steps_per_second': 0.034, 'epoch': 0.83}\n"
     ]
    },
    {
     "name": "stderr",
     "output_type": "stream",
     "text": [
      "Epoch 0: 100%|██████████| 1/1 [42:42<00:00, 2562.36s/it]\n"
     ]
    },
    {
     "name": "stdout",
     "output_type": "stream",
     "text": [
      "{'train_runtime': 2562.1278, 'train_samples_per_second': 0.373, 'train_steps_per_second': 0.047, 'train_loss': 0.08755702177683512, 'epoch': 1.0}\n"
     ]
    },
    {
     "ename": "RuntimeError",
     "evalue": "Parent directory ./trained_models does not exist.",
     "output_type": "error",
     "traceback": [
      "\u001b[1;31m---------------------------------------------------------------------------\u001b[0m",
      "\u001b[1;31mRuntimeError\u001b[0m                              Traceback (most recent call last)",
      "Cell \u001b[1;32mIn[7], line 1\u001b[0m\n\u001b[1;32m----> 1\u001b[0m model \u001b[39m=\u001b[39m train_grader_model(datasets, SEED, training_args, trained_model_path, DEVICE)\n",
      "File \u001b[1;32mc:\\Users\\golan\\OneDrive\\studies\\Masters\\22-23\\B\\NLP\\Final Project\\AMI\\utils.py:156\u001b[0m, in \u001b[0;36mtrain_grader_model\u001b[1;34m(datasets, seed, training_args, trained_model_path, device)\u001b[0m\n\u001b[0;32m    145\u001b[0m scheduler \u001b[39m=\u001b[39m get_linear_schedule_with_warmup(optimizer,       \n\u001b[0;32m    146\u001b[0m              num_warmup_steps\u001b[39m=\u001b[39m\u001b[39m0\u001b[39m, num_training_steps\u001b[39m=\u001b[39mtotal_steps)\n\u001b[0;32m    148\u001b[0m \u001b[39m# Instantiate the Trainer class\u001b[39;00m\n\u001b[0;32m    149\u001b[0m trainer \u001b[39m=\u001b[39m Trainer(\n\u001b[0;32m    150\u001b[0m     model\u001b[39m=\u001b[39mmodel,\n\u001b[0;32m    151\u001b[0m     args\u001b[39m=\u001b[39mtraining_args,\n\u001b[0;32m    152\u001b[0m     train_dataset\u001b[39m=\u001b[39mtrain_dataset,\n\u001b[0;32m    153\u001b[0m     eval_dataset\u001b[39m=\u001b[39mval_dataset,\n\u001b[0;32m    154\u001b[0m     optimizers\u001b[39m=\u001b[39m(optimizer, scheduler),\n\u001b[0;32m    155\u001b[0m     compute_metrics\u001b[39m=\u001b[39mcompute_metrics\n\u001b[1;32m--> 156\u001b[0m )\n\u001b[0;32m    158\u001b[0m \u001b[39m# Train the model with tqdm progress bar\u001b[39;00m\n\u001b[0;32m    159\u001b[0m \u001b[39mwith\u001b[39;00m tqdm\u001b[39m.\u001b[39mtrange(training_args\u001b[39m.\u001b[39mnum_train_epochs, desc\u001b[39m=\u001b[39m\u001b[39m\"\u001b[39m\u001b[39mEpoch\u001b[39m\u001b[39m\"\u001b[39m) \u001b[39mas\u001b[39;00m t:\n",
      "File \u001b[1;32mc:\\Users\\golan\\anaconda3\\envs\\AMI\\Lib\\site-packages\\torch\\serialization.py:440\u001b[0m, in \u001b[0;36msave\u001b[1;34m(obj, f, pickle_module, pickle_protocol, _use_new_zipfile_serialization)\u001b[0m\n\u001b[0;32m    437\u001b[0m _check_save_filelike(f)\n\u001b[0;32m    439\u001b[0m \u001b[39mif\u001b[39;00m _use_new_zipfile_serialization:\n\u001b[1;32m--> 440\u001b[0m     \u001b[39mwith\u001b[39;00m _open_zipfile_writer(f) \u001b[39mas\u001b[39;00m opened_zipfile:\n\u001b[0;32m    441\u001b[0m         _save(obj, opened_zipfile, pickle_module, pickle_protocol)\n\u001b[0;32m    442\u001b[0m         \u001b[39mreturn\u001b[39;00m\n",
      "File \u001b[1;32mc:\\Users\\golan\\anaconda3\\envs\\AMI\\Lib\\site-packages\\torch\\serialization.py:315\u001b[0m, in \u001b[0;36m_open_zipfile_writer\u001b[1;34m(name_or_buffer)\u001b[0m\n\u001b[0;32m    313\u001b[0m \u001b[39melse\u001b[39;00m:\n\u001b[0;32m    314\u001b[0m     container \u001b[39m=\u001b[39m _open_zipfile_writer_buffer\n\u001b[1;32m--> 315\u001b[0m \u001b[39mreturn\u001b[39;00m container(name_or_buffer)\n",
      "File \u001b[1;32mc:\\Users\\golan\\anaconda3\\envs\\AMI\\Lib\\site-packages\\torch\\serialization.py:288\u001b[0m, in \u001b[0;36m_open_zipfile_writer_file.__init__\u001b[1;34m(self, name)\u001b[0m\n\u001b[0;32m    287\u001b[0m \u001b[39mdef\u001b[39;00m \u001b[39m__init__\u001b[39m(\u001b[39mself\u001b[39m, name) \u001b[39m-\u001b[39m\u001b[39m>\u001b[39m \u001b[39mNone\u001b[39;00m:\n\u001b[1;32m--> 288\u001b[0m     \u001b[39msuper\u001b[39m()\u001b[39m.\u001b[39m\u001b[39m__init__\u001b[39m(torch\u001b[39m.\u001b[39;49m_C\u001b[39m.\u001b[39;49mPyTorchFileWriter(\u001b[39mstr\u001b[39;49m(name)))\n",
      "\u001b[1;31mRuntimeError\u001b[0m: Parent directory ./trained_models does not exist."
     ]
    }
   ],
   "source": [
    "model = train_grader_model(datasets, SEED, training_args, trained_model_path, DEVICE)"
   ]
  },
  {
   "cell_type": "code",
   "execution_count": 8,
   "metadata": {},
   "outputs": [
    {
     "ename": "NameError",
     "evalue": "name 'model' is not defined",
     "output_type": "error",
     "traceback": [
      "\u001b[1;31m---------------------------------------------------------------------------\u001b[0m",
      "\u001b[1;31mNameError\u001b[0m                                 Traceback (most recent call last)",
      "Cell \u001b[1;32mIn[8], line 3\u001b[0m\n\u001b[0;32m      1\u001b[0m \u001b[39m# save model\u001b[39;00m\n\u001b[0;32m      2\u001b[0m \u001b[39m# th.save(model.state_dict(), trained_model_path)\u001b[39;00m\n\u001b[1;32m----> 3\u001b[0m model\n",
      "\u001b[1;31mNameError\u001b[0m: name 'model' is not defined"
     ]
    }
   ],
   "source": [
    "# save model\n",
    "# th.save(model.state_dict(), trained_model_path)\n",
    "model"
   ]
  },
  {
   "cell_type": "code",
   "execution_count": null,
   "metadata": {},
   "outputs": [],
   "source": []
  }
 ],
 "metadata": {
  "kernelspec": {
   "display_name": "AMI",
   "language": "python",
   "name": "python3"
  },
  "language_info": {
   "codemirror_mode": {
    "name": "ipython",
    "version": 3
   },
   "file_extension": ".py",
   "mimetype": "text/x-python",
   "name": "python",
   "nbconvert_exporter": "python",
   "pygments_lexer": "ipython3",
   "version": "3.11.4"
  },
  "orig_nbformat": 4
 },
 "nbformat": 4,
 "nbformat_minor": 2
}
