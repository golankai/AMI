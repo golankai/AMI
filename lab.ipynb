{
 "cells": [
  {
   "cell_type": "code",
   "execution_count": 100,
   "metadata": {},
   "outputs": [],
   "source": [
    "import os\n",
    "from langchain.agents import load_tools\n",
    "from langchain.llms import OpenAI, HuggingFaceHub, Cohere\n",
    "from langchain.chat_models import ChatOpenAI\n",
    "from langchain.schema import (\n",
    "    AIMessage,\n",
    "    HumanMessage,\n",
    "    SystemMessage\n",
    ")\n",
    "from langchain.prompts.chat import (\n",
    "    PromptTemplate,\n",
    "    ChatPromptTemplate,\n",
    "    SystemMessagePromptTemplate,\n",
    "    AIMessagePromptTemplate,\n",
    "    HumanMessagePromptTemplate,\n",
    ")\n",
    "from langchain.memory import ConversationBufferMemory\n",
    "\n",
    "from langchain.chains import LLMChain, ConversationChain\n",
    "from langchain.output_parsers import PydanticOutputParser\n",
    "from pydantic import BaseModel, Field, validator\n",
    "\n",
    "\n",
    "from utils import get_local_keys, get_prompts_templates, load_model, load_google_search_tool\n"
   ]
  },
  {
   "cell_type": "code",
   "execution_count": 84,
   "metadata": {},
   "outputs": [],
   "source": [
    "keys = get_local_keys()\n",
    "os.environ[\"HUGGINGFACEHUB_API_TOKEN\"] = keys[\"huggingface_hub_token\"]\n",
    "os.environ[\"OPENAI_API_KEY\"]=keys[\"openai_api_key\"]"
   ]
  },
  {
   "cell_type": "code",
   "execution_count": 85,
   "metadata": {},
   "outputs": [],
   "source": [
    "chat = ChatOpenAI(temperature=0.5, max_tokens=512)"
   ]
  },
  {
   "cell_type": "code",
   "execution_count": 86,
   "metadata": {},
   "outputs": [],
   "source": [
    "template_human_first = \"\"\"Task: please re-identify the person in the following anonymized text.\n",
    "    {anon_text}\n",
    "    \"\"\"\n",
    "template_sys_first = \"You are a cunning AI intruder, you help in a De-anonimization process.\""
   ]
  },
  {
   "cell_type": "code",
   "execution_count": 67,
   "metadata": {},
   "outputs": [],
   "source": [
    "human_prompt_first = HumanMessagePromptTemplate.from_template(template_human_first)\n",
    "system_prompt_first = SystemMessagePromptTemplate.from_template(template_sys_first)\n",
    "chat_prompt_first = ChatPromptTemplate.from_messages([system_prompt_first, human_prompt_first])"
   ]
  },
  {
   "cell_type": "code",
   "execution_count": 87,
   "metadata": {},
   "outputs": [],
   "source": [
    "anon_text = \"PERSON_FIRSTNAME_1 is famous for being an LOCATION_1 songwriter and singer. PRONOUN is from LOCATION_3 in LOCATION_2 and this can be heard heavily in PRONOUN accent even while singing. PERSON_LASTNAME_1!e love PRONOUN music and PRONOUN is famous worldwide. PRONOUN performs live and tours the world with an amazing voice. PRONOUN is loved for PRONOUN unique and powerful voice as well as PRONOUN song writing. PRONOUN songs and albums often about breakups and heartache which many people can relate to. NUMERIC_1 of PRONOUN most famous songs is someone like you. PRONOUN is still only young but has numerous albums that hAve become platinum selling. PRONOUN is now happily married with a child after losing a significant amount of weight which many people were shocked by. PRONOUN is very down to earth and relatable in PRONOUN music\""
   ]
  },
  {
   "cell_type": "code",
   "execution_count": 69,
   "metadata": {},
   "outputs": [],
   "source": [
    "messages = chat_prompt_first.format_prompt(anon_text=anon_text).to_messages()"
   ]
  },
  {
   "cell_type": "code",
   "execution_count": 52,
   "metadata": {},
   "outputs": [
    {
     "data": {
      "text/plain": [
       "AIMessage(content='The person in the anonymized text is Adele.', additional_kwargs={}, example=False)"
      ]
     },
     "execution_count": 52,
     "metadata": {},
     "output_type": "execute_result"
    }
   ],
   "source": [
    "ans_first = chat(messages).content"
   ]
  },
  {
   "cell_type": "code",
   "execution_count": 89,
   "metadata": {},
   "outputs": [],
   "source": [
    "template_human_first = \"\"\"Task: please re-identify the person in the following anonymized text.\n",
    "    {format_instructions}\n",
    "    {anon_text}\n",
    "    \"\"\"\n",
    "class FirstTry(BaseModel):\n",
    "            name: str = Field(description=\"Name of the person or FAIL\")\n",
    "            score: float = Field(description=\"The score or re-identifiabilization, 0 is very easy to re-identidy and 1 is impossible\")\n",
    "\n",
    "# Set up a parser + inject instructions into the prompt template.\n",
    "parser = PydanticOutputParser(pydantic_object=FirstTry)\n",
    "human_prompt_first_parser = HumanMessagePromptTemplate.from_template(template=template_human_first, output_parser=parser)\n"
   ]
  },
  {
   "cell_type": "code",
   "execution_count": 91,
   "metadata": {},
   "outputs": [
    {
     "name": "stdout",
     "output_type": "stream",
     "text": [
      "name='Adele' score=0.8\n",
      "Adele\n"
     ]
    }
   ],
   "source": [
    "chat_prompt_first = ChatPromptTemplate.from_messages([system_prompt_first, human_prompt_first_parser])\n",
    "messages = chat_prompt_first.format_prompt(anon_text=anon_text, format_instructions=parser.get_format_instructions()).to_messages()\n",
    "ans_first_parser = chat(messages).content\n",
    "output_first = parser.parse(ans_first_parser)\n",
    "print(output_first)\n",
    "print(output_first.name)"
   ]
  },
  {
   "cell_type": "code",
   "execution_count": 92,
   "metadata": {},
   "outputs": [
    {
     "name": "stdout",
     "output_type": "stream",
     "text": [
      "name='Adele' score=0.8\n",
      "Adele\n"
     ]
    }
   ],
   "source": [
    "# Shortenning\n",
    "chat_prompt_first = ChatPromptTemplate(\n",
    "    messages=[system_prompt_first, human_prompt_first_parser],\n",
    "    input_variables=[\"anon_text\"],\n",
    "    partial_variables={\"format_instructions\": parser.get_format_instructions()},\n",
    "    output_parser=parser,\n",
    ")\n",
    "messages = chat_prompt_first.format_prompt(anon_text=anon_text).to_messages()\n",
    "ans_first_parser = chat(messages).content\n",
    "output_first = parser.parse(ans_first_parser)\n",
    "print(output_first)\n",
    "print(output_first.name)"
   ]
  },
  {
   "cell_type": "code",
   "execution_count": 99,
   "metadata": {},
   "outputs": [
    {
     "name": "stderr",
     "output_type": "stream",
     "text": [
      "c:\\Users\\golan\\anaconda3\\envs\\AMI\\Lib\\site-packages\\langchain\\chains\\llm.py:275: UserWarning: The predict_and_parse method is deprecated, instead pass an output parser directly to LLMChain.\n",
      "  warnings.warn(\n"
     ]
    },
    {
     "data": {
      "text/plain": [
       "FirstTry(name='Adele', score=0.8)"
      ]
     },
     "execution_count": 99,
     "metadata": {},
     "output_type": "execute_result"
    }
   ],
   "source": [
    "# Adding to a chain\n",
    "chain = LLMChain(llm=chat, prompt=chat_prompt_first)\n",
    "response = chain.predict_and_parse(anon_text=anon_text)\n",
    "response"
   ]
  },
  {
   "cell_type": "code",
   "execution_count": 102,
   "metadata": {},
   "outputs": [],
   "source": [
    "# Adding memory and conversation chain\n",
    "conv_base_template = \"\"\"\n",
    "    This is a secret conversation between a human and an AI. The AI is helping the user validate their annonimization process.\n",
    "\n",
    "    Current conversation:\n",
    "    {history}\n",
    "    Human: {input}\n",
    "    AI Assistant:\n",
    "    \"\"\"\n",
    "conv_base_prompt = PromptTemplate(input_variables=[\"history\", \"input\"], template=conv_base_template)\n",
    "conversation = ConversationChain(\n",
    "    llm=chat,\n",
    "    memory=ConversationBufferMemory(),\n",
    "    prompt=conv_base_prompt\n",
    ")"
   ]
  },
  {
   "cell_type": "code",
   "execution_count": null,
   "metadata": {},
   "outputs": [],
   "source": [
    "chat_prompt_first = ChatPromptTemplate(\n",
    "    messages=[system_prompt_first, human_prompt_first_parser],\n",
    "    input_variables=[\"anon_text\"],\n",
    "    partial_variables={\"format_instructions\": parser.get_format_instructions()},\n",
    "    output_parser=parser,\n",
    ")\n",
    "prompt_for_conv_chain = chat_prompt_first.format_prompt(anon_text=anon_text, format_instructions=parser.get_format_instructions()).to_string()\n",
    " #### DONT Knows how to\n",
    " # Maybe CONVERSATION chain is not the right one\n",
    " # Maybe SequentialChain?"
   ]
  }
 ],
 "metadata": {
  "kernelspec": {
   "display_name": "AMI",
   "language": "python",
   "name": "python3"
  },
  "language_info": {
   "codemirror_mode": {
    "name": "ipython",
    "version": 3
   },
   "file_extension": ".py",
   "mimetype": "text/x-python",
   "name": "python",
   "nbconvert_exporter": "python",
   "pygments_lexer": "ipython3",
   "version": "3.11.4"
  },
  "orig_nbformat": 4
 },
 "nbformat": 4,
 "nbformat_minor": 2
}
