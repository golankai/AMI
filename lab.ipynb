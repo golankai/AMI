{
 "cells": [
  {
   "cell_type": "code",
   "execution_count": 109,
   "metadata": {},
   "outputs": [],
   "source": [
    "import os\n",
    "from typing import List, Dict, Optional, Union, Any\n",
    "\n",
    "\n",
    "from langchain.agents import load_tools\n",
    "from langchain.llms import OpenAI, HuggingFaceHub, Cohere\n",
    "from langchain.chat_models import ChatOpenAI\n",
    "from langchain.schema import (\n",
    "    AIMessage,\n",
    "    HumanMessage,\n",
    "    SystemMessage\n",
    ")\n",
    "from langchain.prompts.chat import (\n",
    "    PromptTemplate,\n",
    "    ChatPromptTemplate,\n",
    "    SystemMessagePromptTemplate,\n",
    "    AIMessagePromptTemplate,\n",
    "    HumanMessagePromptTemplate,\n",
    "    MessagesPlaceholder\n",
    ")\n",
    "from langchain.memory import ConversationBufferMemory\n",
    "\n",
    "from langchain.chains import LLMChain, ConversationChain\n",
    "from langchain.output_parsers import PydanticOutputParser\n",
    "from pydantic import BaseModel, Field, validator\n",
    "from langchain.agents import load_tools\n",
    "from langchain.agents import initialize_agent\n",
    "from langchain.agents import AgentType\n",
    "from langchain.llms import OpenAI\n",
    "\n",
    "\n",
    "from utils import get_local_keys, get_prompts_templates, load_model, load_google_search_tool\n"
   ]
  },
  {
   "cell_type": "code",
   "execution_count": 80,
   "metadata": {},
   "outputs": [],
   "source": [
    "keys = get_local_keys()\n",
    "os.environ[\"HUGGINGFACEHUB_API_TOKEN\"] = keys[\"huggingface_hub_token\"]\n",
    "os.environ[\"OPENAI_API_KEY\"]=keys[\"openai_api_key\"]"
   ]
  },
  {
   "cell_type": "code",
   "execution_count": 81,
   "metadata": {},
   "outputs": [],
   "source": [
    "chat = ChatOpenAI(temperature=0.5, max_tokens=512)"
   ]
  },
  {
   "cell_type": "code",
   "execution_count": 82,
   "metadata": {},
   "outputs": [],
   "source": [
    "anon_text = \"PERSON_FIRSTNAME_1 is famous for being an LOCATION_1 songwriter and singer. PRONOUN is from LOCATION_3 in LOCATION_2 and this can be heard heavily in PRONOUN accent even while singing. PERSON_LASTNAME_1!e love PRONOUN music and PRONOUN is famous worldwide. PRONOUN performs live and tours the world with an amazing voice. PRONOUN is loved for PRONOUN unique and powerful voice as well as PRONOUN song writing. PRONOUN songs and albums often about breakups and heartache which many people can relate to. NUMERIC_1 of PRONOUN most famous songs is someone like you. PRONOUN is still only young but has numerous albums that hAve become platinum selling. PRONOUN is now happily married with a child after losing a significant amount of weight which many people were shocked by. PRONOUN is very down to earth and relatable in PRONOUN music\""
   ]
  },
  {
   "cell_type": "code",
   "execution_count": 108,
   "metadata": {},
   "outputs": [],
   "source": [
    "# Adding memory and conversation chain\n",
    "conv_base_template = \"\"\"\n",
    "    This is a secret conversation between a human and an AI. The AI is helping the user validate their annonimization process, mimicing an intruder\n",
    "\n",
    "    Current conversation:\n",
    "    {history}\n",
    "    Human: {input}\n",
    "    AI Assistant:\n",
    "    \"\"\"\n",
    "conv_base_prompt = PromptTemplate(input_variables=[\"history\", \"input\"], template=conv_base_template)\n",
    "conversation = ConversationChain(\n",
    "    llm=chat,\n",
    "    memory=ConversationBufferMemory(return_messages=True),\n",
    "    prompt=conv_base_prompt\n",
    ")"
   ]
  },
  {
   "cell_type": "code",
   "execution_count": 110,
   "metadata": {},
   "outputs": [
    {
     "data": {
      "text/plain": [
       "'Task: please re-identify the person in the following anonymized text.\\n    The output should be formatted as a JSON instance that conforms to the JSON schema below.\\n\\nAs an example, for the schema {\"properties\": {\"foo\": {\"title\": \"Foo\", \"description\": \"a list of strings\", \"type\": \"array\", \"items\": {\"type\": \"string\"}}}, \"required\": [\"foo\"]}}\\nthe object {\"foo\": [\"bar\", \"baz\"]} is a well-formatted instance of the schema. The object {\"properties\": {\"foo\": [\"bar\", \"baz\"]}} is not well-formatted.\\n\\nHere is the output schema:\\n```\\n{\"properties\": {\"name\": {\"title\": \"Name\", \"description\": \"Name of the person or FAIL\", \"type\": \"string\"}, \"score\": {\"title\": \"Score\", \"description\": \"The score or re-identifiabilization, 0 is very easy to re-identidy and 1 is impossible\", \"type\": \"number\"}, \"charachteristics\": {\"title\": \"Charachteristics\", \"description\": \"A list of 3 unique and identifying charachteristics names of the person, short answers\", \"type\": \"array\", \"items\": {\"type\": \"string\"}}}, \"required\": [\"name\", \"score\", \"charachteristics\"]}\\n```\\n    PERSON_FIRSTNAME_1 is famous for being an LOCATION_1 songwriter and singer. PRONOUN is from LOCATION_3 in LOCATION_2 and this can be heard heavily in PRONOUN accent even while singing. PERSON_LASTNAME_1!e love PRONOUN music and PRONOUN is famous worldwide. PRONOUN performs live and tours the world with an amazing voice. PRONOUN is loved for PRONOUN unique and powerful voice as well as PRONOUN song writing. PRONOUN songs and albums often about breakups and heartache which many people can relate to. NUMERIC_1 of PRONOUN most famous songs is someone like you. PRONOUN is still only young but has numerous albums that hAve become platinum selling. PRONOUN is now happily married with a child after losing a significant amount of weight which many people were shocked by. PRONOUN is very down to earth and relatable in PRONOUN music\\n    '"
      ]
     },
     "execution_count": 110,
     "metadata": {},
     "output_type": "execute_result"
    }
   ],
   "source": [
    "template_human_first = \"\"\"Task: please re-identify the person in the following anonymized text.\n",
    "    {format_instructions}\n",
    "    {anon_text}\n",
    "    \"\"\"\n",
    "class FirstTry(BaseModel):\n",
    "            name: str = Field(description=\"Name of the person or FAIL\")\n",
    "            score: float = Field(description=\"The score or re-identifiabilization, 0 is very easy to re-identidy and 1 is impossible\")\n",
    "            charachteristics: List[str] = Field(description=\"A list of 3 unique and identifying charachteristics names of the person, short answers\")\n",
    "\n",
    "# Set up a parser + inject instructions into the prompt template.\n",
    "parser = PydanticOutputParser(pydantic_object=FirstTry)\n",
    "human_prompt_first_parser = HumanMessagePromptTemplate.from_template(template=template_human_first, output_parser=parser)\n",
    "prompt_cur = human_prompt_first_parser.format(anon_text=anon_text, format_instructions=parser.get_format_instructions())\n",
    "in_text = prompt_cur.content\n",
    "in_text\n"
   ]
  },
  {
   "cell_type": "code",
   "execution_count": 105,
   "metadata": {},
   "outputs": [
    {
     "data": {
      "text/plain": [
       "ChatMessageHistory(messages=[])"
      ]
     },
     "execution_count": 105,
     "metadata": {},
     "output_type": "execute_result"
    }
   ],
   "source": [
    "conversation.memory.clear()\n",
    "conversation.memory.chat_memory"
   ]
  },
  {
   "cell_type": "code",
   "execution_count": 106,
   "metadata": {},
   "outputs": [
    {
     "data": {
      "text/plain": [
       "'{\"name\": \"Adele\", \"score\": 0.8}'"
      ]
     },
     "execution_count": 106,
     "metadata": {},
     "output_type": "execute_result"
    }
   ],
   "source": [
    "response_first = conversation.predict(input=in_text)\n",
    "response_first"
   ]
  },
  {
   "cell_type": "code",
   "execution_count": 103,
   "metadata": {},
   "outputs": [
    {
     "data": {
      "text/plain": [
       "FirstTry(name='Adele', score=0.8)"
      ]
     },
     "execution_count": 103,
     "metadata": {},
     "output_type": "execute_result"
    }
   ],
   "source": [
    "parser.parse(response_first)"
   ]
  },
  {
   "cell_type": "markdown",
   "metadata": {},
   "source": [
    "# Some Tries"
   ]
  },
  {
   "cell_type": "code",
   "execution_count": 91,
   "metadata": {},
   "outputs": [
    {
     "name": "stdout",
     "output_type": "stream",
     "text": [
      "name='Adele' score=0.8\n",
      "Adele\n"
     ]
    }
   ],
   "source": [
    "chat_prompt_first = ChatPromptTemplate.from_messages([system_prompt_first, human_prompt_first_parser])\n",
    "messages = chat_prompt_first.format_prompt(anon_text=anon_text, format_instructions=parser.get_format_instructions()).to_messages()\n",
    "ans_first_parser = chat(messages).content\n",
    "output_first = parser.parse(ans_first_parser)\n",
    "print(output_first)\n",
    "print(output_first.name)"
   ]
  },
  {
   "cell_type": "code",
   "execution_count": 92,
   "metadata": {},
   "outputs": [
    {
     "name": "stdout",
     "output_type": "stream",
     "text": [
      "name='Adele' score=0.8\n",
      "Adele\n"
     ]
    }
   ],
   "source": [
    "# Shortenning\n",
    "chat_prompt_first = ChatPromptTemplate(\n",
    "    messages=[system_prompt_first, human_prompt_first_parser],\n",
    "    input_variables=[\"anon_text\"],\n",
    "    partial_variables={\"format_instructions\": parser.get_format_instructions()},\n",
    "    output_parser=parser,\n",
    ")\n",
    "messages = chat_prompt_first.format_prompt(anon_text=anon_text).to_messages()\n",
    "ans_first_parser = chat(messages).content\n",
    "output_first = parser.parse(ans_first_parser)\n",
    "print(output_first)\n",
    "print(output_first.name)"
   ]
  },
  {
   "cell_type": "code",
   "execution_count": 99,
   "metadata": {},
   "outputs": [
    {
     "name": "stderr",
     "output_type": "stream",
     "text": [
      "c:\\Users\\golan\\anaconda3\\envs\\AMI\\Lib\\site-packages\\langchain\\chains\\llm.py:275: UserWarning: The predict_and_parse method is deprecated, instead pass an output parser directly to LLMChain.\n",
      "  warnings.warn(\n"
     ]
    },
    {
     "data": {
      "text/plain": [
       "FirstTry(name='Adele', score=0.8)"
      ]
     },
     "execution_count": 99,
     "metadata": {},
     "output_type": "execute_result"
    }
   ],
   "source": [
    "# Adding to a chain\n",
    "chain = LLMChain(llm=chat, prompt=chat_prompt_first)\n",
    "response = chain.predict_and_parse(anon_text=anon_text)\n",
    "response"
   ]
  },
  {
   "cell_type": "code",
   "execution_count": null,
   "metadata": {},
   "outputs": [],
   "source": [
    "chat_prompt_first = ChatPromptTemplate(\n",
    "    messages=[system_prompt_first, human_prompt_first_parser],\n",
    "    input_variables=[\"anon_text\"],\n",
    "    partial_variables={\"format_instructions\": parser.get_format_instructions()},\n",
    "    output_parser=parser,\n",
    ")\n",
    "prompt_for_conv_chain = chat_prompt_first.format_prompt(anon_text=anon_text, format_instructions=parser.get_format_instructions()).to_string()\n",
    " #### DONT Knows how to\n",
    " # Maybe CONVERSATION chain is not the right one\n",
    " # Maybe SequentialChain?"
   ]
  },
  {
   "cell_type": "code",
   "execution_count": null,
   "metadata": {},
   "outputs": [],
   "source": [
    "### Add Memory"
   ]
  },
  {
   "cell_type": "code",
   "execution_count": 56,
   "metadata": {},
   "outputs": [],
   "source": [
    "template_sys_first = \"\"\"You are a helpful, respectful and honest assistant.\n",
    "You are helping the user test their anonimization scheme, by mimicing an Intruder.\"\"\"\n",
    "prompt_sys_first = SystemMessagePromptTemplate.from_template(template_sys_first)\n",
    "template_human_first = HumanMessagePromptTemplate.from_template(\"{question}\")"
   ]
  },
  {
   "cell_type": "code",
   "execution_count": 62,
   "metadata": {},
   "outputs": [],
   "source": [
    "prompt = ChatPromptTemplate(\n",
    "    messages=[\n",
    "        prompt_sys_first,\n",
    "        MessagesPlaceholder(variable_name=\"chat_history\"),\n",
    "        template_human_first\n",
    "    ],\n",
    ")\n",
    "memory = ConversationBufferMemory(memory_key=\"chat_history\", return_messages=True)\n",
    "conversation = LLMChain(\n",
    "    llm=chat,\n",
    "    prompt=prompt,\n",
    "    memory=memory,\n",
    "    verbose=True,\n",
    ")"
   ]
  },
  {
   "cell_type": "code",
   "execution_count": 63,
   "metadata": {},
   "outputs": [
    {
     "data": {
      "text/plain": [
       "ChatMessageHistory(messages=[])"
      ]
     },
     "execution_count": 63,
     "metadata": {},
     "output_type": "execute_result"
    }
   ],
   "source": [
    "conversation.memory.clear()\n",
    "conversation.memory.chat_memory"
   ]
  },
  {
   "cell_type": "code",
   "execution_count": 64,
   "metadata": {},
   "outputs": [],
   "source": [
    "template_ask = \"\"\"Task: please re-identify the person in the following anonymized text.\n",
    "    {anon_text}\n",
    "    \"\"\"\n",
    "anon_text = \"PERSON_FIRSTNAME_1 is famous for being an LOCATION_1 songwriter and singer. PRONOUN is from LOCATION_3 in LOCATION_2 and this can be heard heavily in PRONOUN accent even while singing. PERSON_LASTNAME_1!e love PRONOUN music and PRONOUN is famous worldwide. PRONOUN performs live and tours the world with an amazing voice. PRONOUN is loved for PRONOUN unique and powerful voice as well as PRONOUN song writing. PRONOUN songs and albums often about breakups and heartache which many people can relate to. NUMERIC_1 of PRONOUN most famous songs is someone like you. PRONOUN is still only young but has numerous albums that hAve become platinum selling. PRONOUN is now happily married with a child after losing a significant amount of weight which many people were shocked by. PRONOUN is very down to earth and relatable in PRONOUN music\"\n",
    "prompt_ask = HumanMessagePromptTemplate.from_template(template_ask)\n",
    "prompt_cur = prompt_ask.format(anon_text=anon_text)\n",
    "in_text = prompt_cur.content\n"
   ]
  },
  {
   "cell_type": "code",
   "execution_count": 66,
   "metadata": {},
   "outputs": [
    {
     "name": "stdout",
     "output_type": "stream",
     "text": [
      "\n",
      "\n",
      "\u001b[1m> Entering new LLMChain chain...\u001b[0m\n",
      "Prompt after formatting:\n",
      "\u001b[32;1m\u001b[1;3mSystem: You are a helpful, respectful and honest assistant.\n",
      "You are helping the user test their anonimization scheme, by mimicing an Intruder.\n",
      "Human: Task: please re-identify the person in the following anonymized text.\n",
      "    PERSON_FIRSTNAME_1 is famous for being an LOCATION_1 songwriter and singer. PRONOUN is from LOCATION_3 in LOCATION_2 and this can be heard heavily in PRONOUN accent even while singing. PERSON_LASTNAME_1!e love PRONOUN music and PRONOUN is famous worldwide. PRONOUN performs live and tours the world with an amazing voice. PRONOUN is loved for PRONOUN unique and powerful voice as well as PRONOUN song writing. PRONOUN songs and albums often about breakups and heartache which many people can relate to. NUMERIC_1 of PRONOUN most famous songs is someone like you. PRONOUN is still only young but has numerous albums that hAve become platinum selling. PRONOUN is now happily married with a child after losing a significant amount of weight which many people were shocked by. PRONOUN is very down to earth and relatable in PRONOUN music\n",
      "    \u001b[0m\n"
     ]
    },
    {
     "name": "stdout",
     "output_type": "stream",
     "text": [
      "\n",
      "\u001b[1m> Finished chain.\u001b[0m\n"
     ]
    },
    {
     "data": {
      "text/plain": [
       "'Based on the provided text, the person being referred to is likely Adele.'"
      ]
     },
     "execution_count": 66,
     "metadata": {},
     "output_type": "execute_result"
    }
   ],
   "source": [
    "conversation.predict(question=in_text)"
   ]
  },
  {
   "cell_type": "code",
   "execution_count": 55,
   "metadata": {},
   "outputs": [
    {
     "data": {
      "text/plain": [
       "{'question': 'Give me 3 unique charecteristics that helped you re-identify the correct person. ',\n",
       " 'chat_history': [HumanMessage(content='Task: please re-identify the person in the following anonymized text.\\n    PERSON_FIRSTNAME_1 is famous for being an LOCATION_1 songwriter and singer. PRONOUN is from LOCATION_3 in LOCATION_2 and this can be heard heavily in PRONOUN accent even while singing. PERSON_LASTNAME_1!e love PRONOUN music and PRONOUN is famous worldwide. PRONOUN performs live and tours the world with an amazing voice. PRONOUN is loved for PRONOUN unique and powerful voice as well as PRONOUN song writing. PRONOUN songs and albums often about breakups and heartache which many people can relate to. NUMERIC_1 of PRONOUN most famous songs is someone like you. PRONOUN is still only young but has numerous albums that hAve become platinum selling. PRONOUN is now happily married with a child after losing a significant amount of weight which many people were shocked by. PRONOUN is very down to earth and relatable in PRONOUN music\\n    ', additional_kwargs={}, example=False),\n",
       "  AIMessage(content='Based on the provided anonymized text, the person being described is likely Adele.', additional_kwargs={}, example=False),\n",
       "  HumanMessage(content='Give me 3 unique charecteristics that helped you re-identify the correct person. ', additional_kwargs={}, example=False),\n",
       "  AIMessage(content='1. The mention of the song \"Someone Like You\" is a significant clue, as it is one of Adele\\'s most famous songs.\\n2. The reference to the person being married with a child after losing weight matches Adele\\'s personal life and transformation.\\n3. The description of the person as a songwriter and singer, famous worldwide, with a unique and powerful voice aligns with Adele\\'s career and talent.', additional_kwargs={}, example=False)],\n",
       " 'text': '1. The mention of the song \"Someone Like You\" is a significant clue, as it is one of Adele\\'s most famous songs.\\n2. The reference to the person being married with a child after losing weight matches Adele\\'s personal life and transformation.\\n3. The description of the person as a songwriter and singer, famous worldwide, with a unique and powerful voice aligns with Adele\\'s career and talent.'}"
      ]
     },
     "execution_count": 55,
     "metadata": {},
     "output_type": "execute_result"
    }
   ],
   "source": [
    "conversation(\"Give me 3 unique charecteristics that helped you re-identify the correct person. \")\n"
   ]
  },
  {
   "cell_type": "code",
   "execution_count": 68,
   "metadata": {},
   "outputs": [],
   "source": [
    "conversation = ConversationChain(\n",
    "    llm=chat, \n",
    "    verbose=True, \n",
    "    memory=ConversationBufferMemory(return_messages=True)\n",
    ")"
   ]
  },
  {
   "cell_type": "code",
   "execution_count": 70,
   "metadata": {},
   "outputs": [
    {
     "name": "stdout",
     "output_type": "stream",
     "text": [
      "\n",
      "\n",
      "\u001b[1m> Entering new ConversationChain chain...\u001b[0m\n",
      "Prompt after formatting:\n",
      "\u001b[32;1m\u001b[1;3mThe following is a friendly conversation between a human and an AI. The AI is talkative and provides lots of specific details from its context. If the AI does not know the answer to a question, it truthfully says it does not know.\n",
      "\n",
      "Current conversation:\n",
      "[]\n",
      "Human: Task: please re-identify the person in the following anonymized text.\n",
      "    PERSON_FIRSTNAME_1 is famous for being an LOCATION_1 songwriter and singer. PRONOUN is from LOCATION_3 in LOCATION_2 and this can be heard heavily in PRONOUN accent even while singing. PERSON_LASTNAME_1!e love PRONOUN music and PRONOUN is famous worldwide. PRONOUN performs live and tours the world with an amazing voice. PRONOUN is loved for PRONOUN unique and powerful voice as well as PRONOUN song writing. PRONOUN songs and albums often about breakups and heartache which many people can relate to. NUMERIC_1 of PRONOUN most famous songs is someone like you. PRONOUN is still only young but has numerous albums that hAve become platinum selling. PRONOUN is now happily married with a child after losing a significant amount of weight which many people were shocked by. PRONOUN is very down to earth and relatable in PRONOUN music\n",
      "    \n",
      "AI:\u001b[0m\n",
      "\n",
      "\u001b[1m> Finished chain.\u001b[0m\n"
     ]
    },
    {
     "data": {
      "text/plain": [
       "'Based on the provided information, the person being referred to in the anonymized text is Adele. Adele is famous for being a British songwriter and singer. She is from London, England, and her British accent can be heard in her singing. Adele is loved for her unique and powerful voice as well as her songwriting skills. Her songs often revolve around breakups and heartache, which many people can relate to. One of her most famous songs is \"Someone Like You.\" Adele has released numerous albums that have achieved platinum status. She is now happily married with a child, and she has also undergone a significant weight loss transformation that surprised many people. Despite her fame, Adele is known for being down to earth and relatable in her music.'"
      ]
     },
     "execution_count": 70,
     "metadata": {},
     "output_type": "execute_result"
    }
   ],
   "source": [
    "conversation.predict(input=in_text)"
   ]
  },
  {
   "cell_type": "code",
   "execution_count": null,
   "metadata": {},
   "outputs": [],
   "source": []
  }
 ],
 "metadata": {
  "kernelspec": {
   "display_name": "AMI",
   "language": "python",
   "name": "python3"
  },
  "language_info": {
   "codemirror_mode": {
    "name": "ipython",
    "version": 3
   },
   "file_extension": ".py",
   "mimetype": "text/x-python",
   "name": "python",
   "nbconvert_exporter": "python",
   "pygments_lexer": "ipython3",
   "version": "3.11.4"
  },
  "orig_nbformat": 4
 },
 "nbformat": 4,
 "nbformat_minor": 2
}
