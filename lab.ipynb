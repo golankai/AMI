{
 "cells": [
  {
   "cell_type": "code",
   "execution_count": 8,
   "metadata": {},
   "outputs": [
    {
     "name": "stdout",
     "output_type": "stream",
     "text": [
      "Collecting langchain\n",
      "  Obtaining dependency information for langchain from https://files.pythonhosted.org/packages/c9/b7/f511d1ddfaa1acc04356a7f75ca389bf9e6e5bd19ac368bc786de4063240/langchain-0.0.252-py3-none-any.whl.metadata\n",
      "  Downloading langchain-0.0.252-py3-none-any.whl.metadata (14 kB)\n",
      "Requirement already satisfied: PyYAML>=5.3 in /Users/danielfadlon/opt/anaconda3/lib/python3.8/site-packages (from langchain) (5.4.1)\n",
      "Requirement already satisfied: SQLAlchemy<3,>=1.4 in /Users/danielfadlon/opt/anaconda3/lib/python3.8/site-packages (from langchain) (1.4.7)\n",
      "Collecting aiohttp<4.0.0,>=3.8.3 (from langchain)\n",
      "  Obtaining dependency information for aiohttp<4.0.0,>=3.8.3 from https://files.pythonhosted.org/packages/a9/7c/b3d65d913545cab44d033a04c957ba1efd7049f699289e5569f0839f7f44/aiohttp-3.8.5-cp38-cp38-macosx_10_9_x86_64.whl.metadata\n",
      "  Downloading aiohttp-3.8.5-cp38-cp38-macosx_10_9_x86_64.whl.metadata (7.7 kB)\n",
      "Collecting async-timeout<5.0.0,>=4.0.0 (from langchain)\n",
      "  Using cached async_timeout-4.0.2-py3-none-any.whl (5.8 kB)\n",
      "Collecting dataclasses-json<0.6.0,>=0.5.7 (from langchain)\n",
      "  Obtaining dependency information for dataclasses-json<0.6.0,>=0.5.7 from https://files.pythonhosted.org/packages/97/5f/e7cc90f36152810cab08b6c9c1125e8bcb9d76f8b3018d101b5f877b386c/dataclasses_json-0.5.14-py3-none-any.whl.metadata\n",
      "  Using cached dataclasses_json-0.5.14-py3-none-any.whl.metadata (22 kB)\n",
      "Collecting langsmith<0.1.0,>=0.0.11 (from langchain)\n",
      "  Obtaining dependency information for langsmith<0.1.0,>=0.0.11 from https://files.pythonhosted.org/packages/35/5a/0394e665521132bd3a8a0cfa3ffc6569d2627f74c178108a813f4ff27c07/langsmith-0.0.19-py3-none-any.whl.metadata\n",
      "  Downloading langsmith-0.0.19-py3-none-any.whl.metadata (8.8 kB)\n",
      "Collecting numexpr<3.0.0,>=2.8.4 (from langchain)\n",
      "  Downloading numexpr-2.8.4-cp38-cp38-macosx_10_9_x86_64.whl (99 kB)\n",
      "\u001b[2K     \u001b[38;2;114;156;31m━━━━━━━━━━━━━━━━━━━━━━━━━━━━━━━━━━━━━━━━\u001b[0m \u001b[32m99.9/99.9 kB\u001b[0m \u001b[31m1.1 MB/s\u001b[0m eta \u001b[36m0:00:00\u001b[0m[31m1.4 MB/s\u001b[0m eta \u001b[36m0:00:01\u001b[0m\n",
      "\u001b[?25hRequirement already satisfied: numpy<2,>=1 in /Users/danielfadlon/opt/anaconda3/lib/python3.8/site-packages (from langchain) (1.21.4)\n",
      "Collecting openapi-schema-pydantic<2.0,>=1.2 (from langchain)\n",
      "  Using cached openapi_schema_pydantic-1.2.4-py3-none-any.whl (90 kB)\n",
      "Collecting pydantic<2,>=1 (from langchain)\n",
      "  Obtaining dependency information for pydantic<2,>=1 from https://files.pythonhosted.org/packages/06/46/1da67901c12513c34bf853ad6a89abe991496bc1171f72c41fb78a15238f/pydantic-1.10.12-cp38-cp38-macosx_10_9_x86_64.whl.metadata\n",
      "  Downloading pydantic-1.10.12-cp38-cp38-macosx_10_9_x86_64.whl.metadata (149 kB)\n",
      "\u001b[2K     \u001b[38;2;114;156;31m━━━━━━━━━━━━━━━━━━━━━━━━━━━━━━━━━━━━━━━\u001b[0m \u001b[32m149.3/149.3 kB\u001b[0m \u001b[31m2.0 MB/s\u001b[0m eta \u001b[36m0:00:00\u001b[0m MB/s\u001b[0m eta \u001b[36m0:00:01\u001b[0m\n",
      "\u001b[?25hRequirement already satisfied: requests<3,>=2 in /Users/danielfadlon/opt/anaconda3/lib/python3.8/site-packages (from langchain) (2.22.0)\n",
      "Collecting tenacity<9.0.0,>=8.1.0 (from langchain)\n",
      "  Using cached tenacity-8.2.2-py3-none-any.whl (24 kB)\n",
      "Requirement already satisfied: attrs>=17.3.0 in /Users/danielfadlon/opt/anaconda3/lib/python3.8/site-packages (from aiohttp<4.0.0,>=3.8.3->langchain) (21.2.0)\n",
      "Collecting charset-normalizer<4.0,>=2.0 (from aiohttp<4.0.0,>=3.8.3->langchain)\n",
      "  Obtaining dependency information for charset-normalizer<4.0,>=2.0 from https://files.pythonhosted.org/packages/79/55/9aef5046a1765acacf28f80994f5a964ab4f43ab75208b1265191a11004b/charset_normalizer-3.2.0-cp38-cp38-macosx_10_9_x86_64.whl.metadata\n",
      "  Downloading charset_normalizer-3.2.0-cp38-cp38-macosx_10_9_x86_64.whl.metadata (31 kB)\n",
      "Requirement already satisfied: multidict<7.0,>=4.5 in /Users/danielfadlon/opt/anaconda3/lib/python3.8/site-packages (from aiohttp<4.0.0,>=3.8.3->langchain) (4.7.6)\n",
      "Requirement already satisfied: yarl<2.0,>=1.0 in /Users/danielfadlon/opt/anaconda3/lib/python3.8/site-packages (from aiohttp<4.0.0,>=3.8.3->langchain) (1.7.2)\n",
      "Collecting frozenlist>=1.1.1 (from aiohttp<4.0.0,>=3.8.3->langchain)\n",
      "  Obtaining dependency information for frozenlist>=1.1.1 from https://files.pythonhosted.org/packages/d2/bd/918992ca90e75e501110061bbacba13f33262f0d72252205bbd9a7eed316/frozenlist-1.4.0-cp38-cp38-macosx_10_9_x86_64.whl.metadata\n",
      "  Downloading frozenlist-1.4.0-cp38-cp38-macosx_10_9_x86_64.whl.metadata (5.2 kB)\n",
      "Collecting aiosignal>=1.1.2 (from aiohttp<4.0.0,>=3.8.3->langchain)\n",
      "  Using cached aiosignal-1.3.1-py3-none-any.whl (7.6 kB)\n",
      "Collecting marshmallow<4.0.0,>=3.18.0 (from dataclasses-json<0.6.0,>=0.5.7->langchain)\n",
      "  Obtaining dependency information for marshmallow<4.0.0,>=3.18.0 from https://files.pythonhosted.org/packages/ed/3c/cebfdcad015240014ff08b883d1c0c427f2ba45ae8c6572851b6ef136cad/marshmallow-3.20.1-py3-none-any.whl.metadata\n",
      "  Using cached marshmallow-3.20.1-py3-none-any.whl.metadata (7.8 kB)\n",
      "Collecting typing-inspect<1,>=0.4.0 (from dataclasses-json<0.6.0,>=0.5.7->langchain)\n",
      "  Obtaining dependency information for typing-inspect<1,>=0.4.0 from https://files.pythonhosted.org/packages/65/f3/107a22063bf27bdccf2024833d3445f4eea42b2e598abfbd46f6a63b6cb0/typing_inspect-0.9.0-py3-none-any.whl.metadata\n",
      "  Using cached typing_inspect-0.9.0-py3-none-any.whl.metadata (1.5 kB)\n",
      "Collecting typing-extensions>=4.2.0 (from pydantic<2,>=1->langchain)\n",
      "  Obtaining dependency information for typing-extensions>=4.2.0 from https://files.pythonhosted.org/packages/ec/6b/63cc3df74987c36fe26157ee12e09e8f9db4de771e0f3404263117e75b95/typing_extensions-4.7.1-py3-none-any.whl.metadata\n",
      "  Using cached typing_extensions-4.7.1-py3-none-any.whl.metadata (3.1 kB)\n",
      "Requirement already satisfied: chardet<3.1.0,>=3.0.2 in /Users/danielfadlon/opt/anaconda3/lib/python3.8/site-packages (from requests<3,>=2->langchain) (3.0.4)\n",
      "Requirement already satisfied: idna<2.9,>=2.5 in /Users/danielfadlon/opt/anaconda3/lib/python3.8/site-packages (from requests<3,>=2->langchain) (2.8)\n",
      "Requirement already satisfied: urllib3!=1.25.0,!=1.25.1,<1.26,>=1.21.1 in /Users/danielfadlon/opt/anaconda3/lib/python3.8/site-packages (from requests<3,>=2->langchain) (1.25.11)\n",
      "Requirement already satisfied: certifi>=2017.4.17 in /Users/danielfadlon/opt/anaconda3/lib/python3.8/site-packages (from requests<3,>=2->langchain) (2021.10.8)\n",
      "Requirement already satisfied: greenlet!=0.4.17 in /Users/danielfadlon/opt/anaconda3/lib/python3.8/site-packages (from SQLAlchemy<3,>=1.4->langchain) (1.0.0)\n",
      "Requirement already satisfied: packaging>=17.0 in /Users/danielfadlon/opt/anaconda3/lib/python3.8/site-packages (from marshmallow<4.0.0,>=3.18.0->dataclasses-json<0.6.0,>=0.5.7->langchain) (21.3)\n",
      "Requirement already satisfied: mypy-extensions>=0.3.0 in /Users/danielfadlon/opt/anaconda3/lib/python3.8/site-packages (from typing-inspect<1,>=0.4.0->dataclasses-json<0.6.0,>=0.5.7->langchain) (0.4.3)\n",
      "Requirement already satisfied: pyparsing!=3.0.5,>=2.0.2 in /Users/danielfadlon/opt/anaconda3/lib/python3.8/site-packages (from packaging>=17.0->marshmallow<4.0.0,>=3.18.0->dataclasses-json<0.6.0,>=0.5.7->langchain) (3.0.6)\n",
      "Downloading langchain-0.0.252-py3-none-any.whl (1.4 MB)\n",
      "\u001b[2K   \u001b[38;2;114;156;31m━━━━━━━━━━━━━━━━━━━━━━━━━━━━━━━━━━━━━━━━\u001b[0m \u001b[32m1.4/1.4 MB\u001b[0m \u001b[31m3.8 MB/s\u001b[0m eta \u001b[36m0:00:00\u001b[0mm eta \u001b[36m0:00:01\u001b[0m[36m0:00:01\u001b[0m\n",
      "\u001b[?25hDownloading aiohttp-3.8.5-cp38-cp38-macosx_10_9_x86_64.whl (367 kB)\n",
      "\u001b[2K   \u001b[38;2;114;156;31m━━━━━━━━━━━━━━━━━━━━━━━━━━━━━━━━━━━━━━━━\u001b[0m \u001b[32m367.0/367.0 kB\u001b[0m \u001b[31m3.4 MB/s\u001b[0m eta \u001b[36m0:00:00\u001b[0m[31m4.3 MB/s\u001b[0m eta \u001b[36m0:00:01\u001b[0m\n",
      "\u001b[?25hUsing cached dataclasses_json-0.5.14-py3-none-any.whl (26 kB)\n",
      "Downloading langsmith-0.0.19-py3-none-any.whl (31 kB)\n",
      "Downloading pydantic-1.10.12-cp38-cp38-macosx_10_9_x86_64.whl (2.9 MB)\n",
      "\u001b[2K   \u001b[38;2;114;156;31m━━━━━━━━━━━━━━━━━━━━━━━━━━━━━━━━━━━━━━━━\u001b[0m \u001b[32m2.9/2.9 MB\u001b[0m \u001b[31m4.0 MB/s\u001b[0m eta \u001b[36m0:00:00\u001b[0mm eta \u001b[36m0:00:01\u001b[0m0:01\u001b[0m:01\u001b[0m\n",
      "\u001b[?25hDownloading charset_normalizer-3.2.0-cp38-cp38-macosx_10_9_x86_64.whl (124 kB)\n",
      "\u001b[2K   \u001b[38;2;114;156;31m━━━━━━━━━━━━━━━━━━━━━━━━━━━━━━━━━━━━━━━━\u001b[0m \u001b[32m124.8/124.8 kB\u001b[0m \u001b[31m2.7 MB/s\u001b[0m eta \u001b[36m0:00:00\u001b[0m[36m0:00:01\u001b[0m\n",
      "\u001b[?25hDownloading frozenlist-1.4.0-cp38-cp38-macosx_10_9_x86_64.whl (47 kB)\n",
      "\u001b[2K   \u001b[38;2;114;156;31m━━━━━━━━━━━━━━━━━━━━━━━━━━━━━━━━━━━━━━━━\u001b[0m \u001b[32m48.0/48.0 kB\u001b[0m \u001b[31m1.4 MB/s\u001b[0m eta \u001b[36m0:00:00\u001b[0m\n",
      "\u001b[?25hUsing cached marshmallow-3.20.1-py3-none-any.whl (49 kB)\n",
      "Using cached typing_extensions-4.7.1-py3-none-any.whl (33 kB)\n",
      "Using cached typing_inspect-0.9.0-py3-none-any.whl (8.8 kB)\n",
      "\u001b[33mDEPRECATION: pyodbc 4.0.0-unsupported has a non-standard version number. pip 23.3 will enforce this behaviour change. A possible replacement is to upgrade to a newer version of pyodbc or contact the author to suggest that they release a version with a conforming version number. Discussion can be found at https://github.com/pypa/pip/issues/12063\u001b[0m\u001b[33m\n",
      "\u001b[0mInstalling collected packages: typing-extensions, tenacity, numexpr, frozenlist, charset-normalizer, async-timeout, typing-inspect, pydantic, marshmallow, aiosignal, openapi-schema-pydantic, langsmith, dataclasses-json, aiohttp, langchain\n",
      "  Attempting uninstall: typing-extensions\n",
      "    Found existing installation: typing-extensions 3.7.4.3\n",
      "    Uninstalling typing-extensions-3.7.4.3:\n",
      "      Successfully uninstalled typing-extensions-3.7.4.3\n",
      "  Attempting uninstall: numexpr\n",
      "    Found existing installation: numexpr 2.7.3\n",
      "    Uninstalling numexpr-2.7.3:\n",
      "      Successfully uninstalled numexpr-2.7.3\n",
      "  Attempting uninstall: async-timeout\n",
      "    Found existing installation: async-timeout 3.0.1\n",
      "    Uninstalling async-timeout-3.0.1:\n",
      "      Successfully uninstalled async-timeout-3.0.1\n",
      "  Attempting uninstall: aiohttp\n",
      "    Found existing installation: aiohttp 3.5.4\n",
      "    Uninstalling aiohttp-3.5.4:\n",
      "      Successfully uninstalled aiohttp-3.5.4\n",
      "Successfully installed aiohttp-3.8.5 aiosignal-1.3.1 async-timeout-4.0.2 charset-normalizer-3.2.0 dataclasses-json-0.5.14 frozenlist-1.4.0 langchain-0.0.252 langsmith-0.0.19 marshmallow-3.20.1 numexpr-2.8.4 openapi-schema-pydantic-1.2.4 pydantic-1.10.12 tenacity-8.2.2 typing-extensions-4.7.1 typing-inspect-0.9.0\n"
     ]
    }
   ],
   "source": [
    "!pip install langchain"
   ]
  },
  {
   "cell_type": "code",
   "execution_count": null,
   "metadata": {},
   "outputs": [],
   "source": [
    "!pip install openai"
   ]
  },
  {
   "cell_type": "code",
   "execution_count": 11,
   "metadata": {},
   "outputs": [],
   "source": [
    "import os\n",
    "from typing import List, Dict, Optional, Union, Any\n",
    "\n",
    "\n",
    "from langchain.agents import load_tools\n",
    "from langchain.llms import OpenAI, HuggingFaceHub, Cohere\n",
    "from langchain.chat_models import ChatOpenAI\n",
    "from langchain.schema import (\n",
    "    AIMessage,\n",
    "    HumanMessage,\n",
    "    SystemMessage\n",
    ")\n",
    "from langchain.prompts.chat import (\n",
    "    PromptTemplate,\n",
    "    ChatPromptTemplate,\n",
    "    SystemMessagePromptTemplate,\n",
    "    AIMessagePromptTemplate,\n",
    "    HumanMessagePromptTemplate,\n",
    "    MessagesPlaceholder\n",
    ")\n",
    "from langchain.memory import ConversationBufferMemory\n",
    "\n",
    "from langchain.chains import LLMChain, ConversationChain\n",
    "from langchain.output_parsers import PydanticOutputParser\n",
    "from pydantic import BaseModel, Field, validator\n",
    "from langchain.agents import load_tools\n",
    "from langchain.agents import initialize_agent\n",
    "from langchain.agents import AgentType\n",
    "from langchain.llms import OpenAI\n",
    "\n",
    "\n",
    "from utils import get_local_keys, get_prompts_templates, load_model, load_google_search_tool\n"
   ]
  },
  {
   "cell_type": "code",
   "execution_count": 13,
   "metadata": {},
   "outputs": [],
   "source": [
    "keys = get_local_keys()\n",
    "os.environ[\"HUGGINGFACEHUB_API_TOKEN\"] = keys[\"huggingface_hub_token\"]\n",
    "os.environ[\"OPENAI_API_KEY\"]=keys[\"openai_api_key\"]"
   ]
  },
  {
   "cell_type": "code",
   "execution_count": 14,
   "metadata": {},
   "outputs": [
    {
     "ename": "ValidationError",
     "evalue": "1 validation error for ChatOpenAI\n__root__\n  Could not import openai python package. Please install it with `pip install openai`. (type=value_error)",
     "output_type": "error",
     "traceback": [
      "\u001b[0;31m---------------------------------------------------------------------------\u001b[0m",
      "\u001b[0;31mValidationError\u001b[0m                           Traceback (most recent call last)",
      "\u001b[0;32m<ipython-input-14-a64a4c85809a>\u001b[0m in \u001b[0;36m<module>\u001b[0;34m\u001b[0m\n\u001b[0;32m----> 1\u001b[0;31m \u001b[0mchat\u001b[0m \u001b[0;34m=\u001b[0m \u001b[0mChatOpenAI\u001b[0m\u001b[0;34m(\u001b[0m\u001b[0mtemperature\u001b[0m\u001b[0;34m=\u001b[0m\u001b[0;36m0.5\u001b[0m\u001b[0;34m,\u001b[0m \u001b[0mmax_tokens\u001b[0m\u001b[0;34m=\u001b[0m\u001b[0;36m512\u001b[0m\u001b[0;34m)\u001b[0m\u001b[0;34m\u001b[0m\u001b[0;34m\u001b[0m\u001b[0m\n\u001b[0m",
      "\u001b[0;32m~/opt/anaconda3/lib/python3.8/site-packages/langchain/load/serializable.py\u001b[0m in \u001b[0;36m__init__\u001b[0;34m(self, **kwargs)\u001b[0m\n\u001b[1;32m     72\u001b[0m \u001b[0;34m\u001b[0m\u001b[0m\n\u001b[1;32m     73\u001b[0m     \u001b[0;32mdef\u001b[0m \u001b[0m__init__\u001b[0m\u001b[0;34m(\u001b[0m\u001b[0mself\u001b[0m\u001b[0;34m,\u001b[0m \u001b[0;34m**\u001b[0m\u001b[0mkwargs\u001b[0m\u001b[0;34m:\u001b[0m \u001b[0mAny\u001b[0m\u001b[0;34m)\u001b[0m \u001b[0;34m->\u001b[0m \u001b[0;32mNone\u001b[0m\u001b[0;34m:\u001b[0m\u001b[0;34m\u001b[0m\u001b[0;34m\u001b[0m\u001b[0m\n\u001b[0;32m---> 74\u001b[0;31m         \u001b[0msuper\u001b[0m\u001b[0;34m(\u001b[0m\u001b[0;34m)\u001b[0m\u001b[0;34m.\u001b[0m\u001b[0m__init__\u001b[0m\u001b[0;34m(\u001b[0m\u001b[0;34m**\u001b[0m\u001b[0mkwargs\u001b[0m\u001b[0;34m)\u001b[0m\u001b[0;34m\u001b[0m\u001b[0;34m\u001b[0m\u001b[0m\n\u001b[0m\u001b[1;32m     75\u001b[0m         \u001b[0mself\u001b[0m\u001b[0;34m.\u001b[0m\u001b[0m_lc_kwargs\u001b[0m \u001b[0;34m=\u001b[0m \u001b[0mkwargs\u001b[0m\u001b[0;34m\u001b[0m\u001b[0;34m\u001b[0m\u001b[0m\n\u001b[1;32m     76\u001b[0m \u001b[0;34m\u001b[0m\u001b[0m\n",
      "\u001b[0;32m~/opt/anaconda3/lib/python3.8/site-packages/pydantic/main.cpython-38-darwin.so\u001b[0m in \u001b[0;36mpydantic.main.BaseModel.__init__\u001b[0;34m()\u001b[0m\n",
      "\u001b[0;31mValidationError\u001b[0m: 1 validation error for ChatOpenAI\n__root__\n  Could not import openai python package. Please install it with `pip install openai`. (type=value_error)"
     ]
    }
   ],
   "source": [
    "chat = ChatOpenAI(temperature=0.5, max_tokens=512)"
   ]
  },
  {
   "cell_type": "code",
   "execution_count": 82,
   "metadata": {},
   "outputs": [],
   "source": [
    "anon_text = \"PERSON_FIRSTNAME_1 is famous for being an LOCATION_1 songwriter and singer. PRONOUN is from LOCATION_3 in LOCATION_2 and this can be heard heavily in PRONOUN accent even while singing. PERSON_LASTNAME_1!e love PRONOUN music and PRONOUN is famous worldwide. PRONOUN performs live and tours the world with an amazing voice. PRONOUN is loved for PRONOUN unique and powerful voice as well as PRONOUN song writing. PRONOUN songs and albums often about breakups and heartache which many people can relate to. NUMERIC_1 of PRONOUN most famous songs is someone like you. PRONOUN is still only young but has numerous albums that hAve become platinum selling. PRONOUN is now happily married with a child after losing a significant amount of weight which many people were shocked by. PRONOUN is very down to earth and relatable in PRONOUN music\""
   ]
  },
  {
   "cell_type": "code",
   "execution_count": 1,
   "metadata": {},
   "outputs": [],
   "source": [
    "adele_10 = [43, 47, 57, 61, 97, 112, 147, 157, 178, 197]\n",
    "\n",
    "anon_text_lst = {}\n",
    "\n",
    "for i in adele_10:\n",
    "    with open(f\"textwash_data/study2/person_descriptions/anon/adele_{i}.txt\", \"r\") as f:\n",
    "        anon_text_lst[i] = f.read()"
   ]
  },
  {
   "cell_type": "code",
   "execution_count": 12,
   "metadata": {},
   "outputs": [
    {
     "ename": "NameError",
     "evalue": "name 'chat' is not defined",
     "output_type": "error",
     "traceback": [
      "\u001b[0;31m---------------------------------------------------------------------------\u001b[0m",
      "\u001b[0;31mNameError\u001b[0m                                 Traceback (most recent call last)",
      "\u001b[0;32m<ipython-input-12-862fc552a398>\u001b[0m in \u001b[0;36m<module>\u001b[0;34m\u001b[0m\n\u001b[1;32m     10\u001b[0m \u001b[0mconv_base_prompt\u001b[0m \u001b[0;34m=\u001b[0m \u001b[0mPromptTemplate\u001b[0m\u001b[0;34m(\u001b[0m\u001b[0minput_variables\u001b[0m\u001b[0;34m=\u001b[0m\u001b[0;34m[\u001b[0m\u001b[0;34m\"history\"\u001b[0m\u001b[0;34m,\u001b[0m \u001b[0;34m\"input\"\u001b[0m\u001b[0;34m]\u001b[0m\u001b[0;34m,\u001b[0m \u001b[0mtemplate\u001b[0m\u001b[0;34m=\u001b[0m\u001b[0mconv_base_template\u001b[0m\u001b[0;34m)\u001b[0m\u001b[0;34m\u001b[0m\u001b[0;34m\u001b[0m\u001b[0m\n\u001b[1;32m     11\u001b[0m conversation = ConversationChain(\n\u001b[0;32m---> 12\u001b[0;31m     \u001b[0mllm\u001b[0m\u001b[0;34m=\u001b[0m\u001b[0mchat\u001b[0m\u001b[0;34m,\u001b[0m\u001b[0;34m\u001b[0m\u001b[0;34m\u001b[0m\u001b[0m\n\u001b[0m\u001b[1;32m     13\u001b[0m     \u001b[0mmemory\u001b[0m\u001b[0;34m=\u001b[0m\u001b[0mConversationBufferMemory\u001b[0m\u001b[0;34m(\u001b[0m\u001b[0mreturn_messages\u001b[0m\u001b[0;34m=\u001b[0m\u001b[0;32mTrue\u001b[0m\u001b[0;34m)\u001b[0m\u001b[0;34m,\u001b[0m\u001b[0;34m\u001b[0m\u001b[0;34m\u001b[0m\u001b[0m\n\u001b[1;32m     14\u001b[0m     \u001b[0mprompt\u001b[0m\u001b[0;34m=\u001b[0m\u001b[0mconv_base_prompt\u001b[0m\u001b[0;34m\u001b[0m\u001b[0;34m\u001b[0m\u001b[0m\n",
      "\u001b[0;31mNameError\u001b[0m: name 'chat' is not defined"
     ]
    }
   ],
   "source": [
    "# Adding memory and conversation chain\n",
    "conv_base_template = \"\"\"\n",
    "    This is a secret conversation between a human and an AI. The AI is helping the user validate their annonimization process, mimicing an intruder\n",
    "\n",
    "    Current conversation:\n",
    "    {history}\n",
    "    Human: {input}\n",
    "    AI Assistant:\n",
    "    \"\"\"\n",
    "conv_base_prompt = PromptTemplate(input_variables=[\"history\", \"input\"], template=conv_base_template)\n",
    "conversation = ConversationChain(\n",
    "    llm=chat,\n",
    "    memory=ConversationBufferMemory(return_messages=True),\n",
    "    prompt=conv_base_prompt\n",
    ")"
   ]
  },
  {
   "cell_type": "code",
   "execution_count": 16,
   "metadata": {},
   "outputs": [
    {
     "data": {
      "text/plain": [
       "'Task: please re-identify the person in the following anonymized text.\\n    The output should be formatted as a JSON instance that conforms to the JSON schema below.\\n\\nAs an example, for the schema {\"properties\": {\"foo\": {\"title\": \"Foo\", \"description\": \"a list of strings\", \"type\": \"array\", \"items\": {\"type\": \"string\"}}}, \"required\": [\"foo\"]}}\\nthe object {\"foo\": [\"bar\", \"baz\"]} is a well-formatted instance of the schema. The object {\"properties\": {\"foo\": [\"bar\", \"baz\"]}} is not well-formatted.\\n\\nHere is the output schema:\\n```\\n{\"properties\": {\"name\": {\"title\": \"Name\", \"description\": \"Name of the person or FAIL\", \"type\": \"string\"}, \"score\": {\"title\": \"Score\", \"description\": \"The score or re-identifiabilization, 0 is very easy to re-identidy and 1 is impossible\", \"type\": \"number\"}, \"charachteristics\": {\"title\": \"Charachteristics\", \"description\": \"A list of 3 unique and identifying charachteristics names of the person, short answers\", \"type\": \"array\", \"items\": {\"type\": \"string\"}}}, \"required\": [\"name\", \"score\", \"charachteristics\"]}\\n```\\n    PERSON_FIRSTNAME_1 is an LOCATION_1 OCCUPATION_1 born in LOCATION_2. PERSON_FIRSTNAME_1 is best know for PRONOUN incredible voice, but also for not performing too much. I think I would probably describe PRONOUN genre as somewhere between soul and pob. PERSON_FIRSTNAME_1 is probably best know for PRONOUN moving balads.\\n \\nAt first I was not sure if PERSON_FIRSTNAME_1 was still active as a singer, and apparently there is a new album coming out. When I looked up PERSON_FIRSTNAME_1, I learned that PRONOUN had earned NUMERIC_1 Grammy Awards, and NUMERIC_2 Brit Awards. Apparently, PERSON_FIRSTNAME_1 recently divorced PRONOUN husband and they have a child.\\n    '"
      ]
     },
     "execution_count": 16,
     "metadata": {},
     "output_type": "execute_result"
    }
   ],
   "source": [
    "template_human_first = \"\"\"Task: please re-identify the person in the following anonymized text.\n",
    "    {format_instructions}\n",
    "    {anon_text}\n",
    "    \"\"\"\n",
    "class FirstTry(BaseModel):\n",
    "            name: str = Field(description=\"Name of the person or FAIL\")\n",
    "            score: float = Field(description=\"The score or re-identifiabilization, 0 is very easy to re-identidy and 1 is impossible\")\n",
    "            charachteristics: List[str] = Field(description=\"A list of 3 unique and identifying charachteristics names of the person, short answers\")\n",
    "\n",
    "# Set up a parser + inject instructions into the prompt template.\n",
    "parser = PydanticOutputParser(pydantic_object=FirstTry)\n",
    "human_prompt_first_parser = HumanMessagePromptTemplate.from_template(template=template_human_first, output_parser=parser)\n",
    "prompt_cur = human_prompt_first_parser.format(anon_text=anon_text_lst[43], format_instructions=parser.get_format_instructions())\n",
    "in_text = prompt_cur.content\n",
    "in_text\n"
   ]
  },
  {
   "cell_type": "code",
   "execution_count": 105,
   "metadata": {},
   "outputs": [
    {
     "data": {
      "text/plain": [
       "ChatMessageHistory(messages=[])"
      ]
     },
     "execution_count": 105,
     "metadata": {},
     "output_type": "execute_result"
    }
   ],
   "source": [
    "conversation.memory.clear()\n",
    "conversation.memory.chat_memory"
   ]
  },
  {
   "cell_type": "code",
   "execution_count": 106,
   "metadata": {},
   "outputs": [
    {
     "data": {
      "text/plain": [
       "'{\"name\": \"Adele\", \"score\": 0.8}'"
      ]
     },
     "execution_count": 106,
     "metadata": {},
     "output_type": "execute_result"
    }
   ],
   "source": [
    "response_first = conversation.predict(input=in_text)\n",
    "response_first"
   ]
  },
  {
   "cell_type": "code",
   "execution_count": 103,
   "metadata": {},
   "outputs": [
    {
     "data": {
      "text/plain": [
       "FirstTry(name='Adele', score=0.8)"
      ]
     },
     "execution_count": 103,
     "metadata": {},
     "output_type": "execute_result"
    }
   ],
   "source": [
    "parser.parse(response_first)"
   ]
  },
  {
   "cell_type": "markdown",
   "metadata": {},
   "source": [
    "# Some Tries"
   ]
  },
  {
   "cell_type": "code",
   "execution_count": 91,
   "metadata": {},
   "outputs": [
    {
     "name": "stdout",
     "output_type": "stream",
     "text": [
      "name='Adele' score=0.8\n",
      "Adele\n"
     ]
    }
   ],
   "source": [
    "chat_prompt_first = ChatPromptTemplate.from_messages([system_prompt_first, human_prompt_first_parser])\n",
    "messages = chat_prompt_first.format_prompt(anon_text=anon_text, format_instructions=parser.get_format_instructions()).to_messages()\n",
    "ans_first_parser = chat(messages).content\n",
    "output_first = parser.parse(ans_first_parser)\n",
    "print(output_first)\n",
    "print(output_first.name)"
   ]
  },
  {
   "cell_type": "code",
   "execution_count": 92,
   "metadata": {},
   "outputs": [
    {
     "name": "stdout",
     "output_type": "stream",
     "text": [
      "name='Adele' score=0.8\n",
      "Adele\n"
     ]
    }
   ],
   "source": [
    "# Shortenning\n",
    "chat_prompt_first = ChatPromptTemplate(\n",
    "    messages=[system_prompt_first, human_prompt_first_parser],\n",
    "    input_variables=[\"anon_text\"],\n",
    "    partial_variables={\"format_instructions\": parser.get_format_instructions()},\n",
    "    output_parser=parser,\n",
    ")\n",
    "messages = chat_prompt_first.format_prompt(anon_text=anon_text).to_messages()\n",
    "ans_first_parser = chat(messages).content\n",
    "output_first = parser.parse(ans_first_parser)\n",
    "print(output_first)\n",
    "print(output_first.name)"
   ]
  },
  {
   "cell_type": "code",
   "execution_count": 99,
   "metadata": {},
   "outputs": [
    {
     "name": "stderr",
     "output_type": "stream",
     "text": [
      "c:\\Users\\golan\\anaconda3\\envs\\AMI\\Lib\\site-packages\\langchain\\chains\\llm.py:275: UserWarning: The predict_and_parse method is deprecated, instead pass an output parser directly to LLMChain.\n",
      "  warnings.warn(\n"
     ]
    },
    {
     "data": {
      "text/plain": [
       "FirstTry(name='Adele', score=0.8)"
      ]
     },
     "execution_count": 99,
     "metadata": {},
     "output_type": "execute_result"
    }
   ],
   "source": [
    "# Adding to a chain\n",
    "chain = LLMChain(llm=chat, prompt=chat_prompt_first)\n",
    "response = chain.predict_and_parse(anon_text=anon_text)\n",
    "response"
   ]
  },
  {
   "cell_type": "code",
   "execution_count": null,
   "metadata": {},
   "outputs": [],
   "source": [
    "chat_prompt_first = ChatPromptTemplate(\n",
    "    messages=[system_prompt_first, human_prompt_first_parser],\n",
    "    input_variables=[\"anon_text\"],\n",
    "    partial_variables={\"format_instructions\": parser.get_format_instructions()},\n",
    "    output_parser=parser,\n",
    ")\n",
    "prompt_for_conv_chain = chat_prompt_first.format_prompt(anon_text=anon_text, format_instructions=parser.get_format_instructions()).to_string()\n",
    " #### DONT Knows how to\n",
    " # Maybe CONVERSATION chain is not the right one\n",
    " # Maybe SequentialChain?"
   ]
  },
  {
   "cell_type": "code",
   "execution_count": null,
   "metadata": {},
   "outputs": [],
   "source": [
    "### Add Memory"
   ]
  },
  {
   "cell_type": "code",
   "execution_count": 56,
   "metadata": {},
   "outputs": [],
   "source": [
    "template_sys_first = \"\"\"You are a helpful, respectful and honest assistant.\n",
    "You are helping the user test their anonimization scheme, by mimicing an Intruder.\"\"\"\n",
    "prompt_sys_first = SystemMessagePromptTemplate.from_template(template_sys_first)\n",
    "template_human_first = HumanMessagePromptTemplate.from_template(\"{question}\")"
   ]
  },
  {
   "cell_type": "code",
   "execution_count": 62,
   "metadata": {},
   "outputs": [],
   "source": [
    "prompt = ChatPromptTemplate(\n",
    "    messages=[\n",
    "        prompt_sys_first,\n",
    "        MessagesPlaceholder(variable_name=\"chat_history\"),\n",
    "        template_human_first\n",
    "    ],\n",
    ")\n",
    "memory = ConversationBufferMemory(memory_key=\"chat_history\", return_messages=True)\n",
    "conversation = LLMChain(\n",
    "    llm=chat,\n",
    "    prompt=prompt,\n",
    "    memory=memory,\n",
    "    verbose=True,\n",
    ")"
   ]
  },
  {
   "cell_type": "code",
   "execution_count": 63,
   "metadata": {},
   "outputs": [
    {
     "data": {
      "text/plain": [
       "ChatMessageHistory(messages=[])"
      ]
     },
     "execution_count": 63,
     "metadata": {},
     "output_type": "execute_result"
    }
   ],
   "source": [
    "conversation.memory.clear()\n",
    "conversation.memory.chat_memory"
   ]
  },
  {
   "cell_type": "code",
   "execution_count": 64,
   "metadata": {},
   "outputs": [],
   "source": [
    "template_ask = \"\"\"Task: please re-identify the person in the following anonymized text.\n",
    "    {anon_text}\n",
    "    \"\"\"\n",
    "anon_text = \"PERSON_FIRSTNAME_1 is famous for being an LOCATION_1 songwriter and singer. PRONOUN is from LOCATION_3 in LOCATION_2 and this can be heard heavily in PRONOUN accent even while singing. PERSON_LASTNAME_1!e love PRONOUN music and PRONOUN is famous worldwide. PRONOUN performs live and tours the world with an amazing voice. PRONOUN is loved for PRONOUN unique and powerful voice as well as PRONOUN song writing. PRONOUN songs and albums often about breakups and heartache which many people can relate to. NUMERIC_1 of PRONOUN most famous songs is someone like you. PRONOUN is still only young but has numerous albums that hAve become platinum selling. PRONOUN is now happily married with a child after losing a significant amount of weight which many people were shocked by. PRONOUN is very down to earth and relatable in PRONOUN music\"\n",
    "prompt_ask = HumanMessagePromptTemplate.from_template(template_ask)\n",
    "prompt_cur = prompt_ask.format(anon_text=anon_text)\n",
    "in_text = prompt_cur.content\n"
   ]
  },
  {
   "cell_type": "code",
   "execution_count": 66,
   "metadata": {},
   "outputs": [
    {
     "name": "stdout",
     "output_type": "stream",
     "text": [
      "\n",
      "\n",
      "\u001b[1m> Entering new LLMChain chain...\u001b[0m\n",
      "Prompt after formatting:\n",
      "\u001b[32;1m\u001b[1;3mSystem: You are a helpful, respectful and honest assistant.\n",
      "You are helping the user test their anonimization scheme, by mimicing an Intruder.\n",
      "Human: Task: please re-identify the person in the following anonymized text.\n",
      "    PERSON_FIRSTNAME_1 is famous for being an LOCATION_1 songwriter and singer. PRONOUN is from LOCATION_3 in LOCATION_2 and this can be heard heavily in PRONOUN accent even while singing. PERSON_LASTNAME_1!e love PRONOUN music and PRONOUN is famous worldwide. PRONOUN performs live and tours the world with an amazing voice. PRONOUN is loved for PRONOUN unique and powerful voice as well as PRONOUN song writing. PRONOUN songs and albums often about breakups and heartache which many people can relate to. NUMERIC_1 of PRONOUN most famous songs is someone like you. PRONOUN is still only young but has numerous albums that hAve become platinum selling. PRONOUN is now happily married with a child after losing a significant amount of weight which many people were shocked by. PRONOUN is very down to earth and relatable in PRONOUN music\n",
      "    \u001b[0m\n"
     ]
    },
    {
     "name": "stdout",
     "output_type": "stream",
     "text": [
      "\n",
      "\u001b[1m> Finished chain.\u001b[0m\n"
     ]
    },
    {
     "data": {
      "text/plain": [
       "'Based on the provided text, the person being referred to is likely Adele.'"
      ]
     },
     "execution_count": 66,
     "metadata": {},
     "output_type": "execute_result"
    }
   ],
   "source": [
    "conversation.predict(question=in_text)"
   ]
  },
  {
   "cell_type": "code",
   "execution_count": 55,
   "metadata": {},
   "outputs": [
    {
     "data": {
      "text/plain": [
       "{'question': 'Give me 3 unique charecteristics that helped you re-identify the correct person. ',\n",
       " 'chat_history': [HumanMessage(content='Task: please re-identify the person in the following anonymized text.\\n    PERSON_FIRSTNAME_1 is famous for being an LOCATION_1 songwriter and singer. PRONOUN is from LOCATION_3 in LOCATION_2 and this can be heard heavily in PRONOUN accent even while singing. PERSON_LASTNAME_1!e love PRONOUN music and PRONOUN is famous worldwide. PRONOUN performs live and tours the world with an amazing voice. PRONOUN is loved for PRONOUN unique and powerful voice as well as PRONOUN song writing. PRONOUN songs and albums often about breakups and heartache which many people can relate to. NUMERIC_1 of PRONOUN most famous songs is someone like you. PRONOUN is still only young but has numerous albums that hAve become platinum selling. PRONOUN is now happily married with a child after losing a significant amount of weight which many people were shocked by. PRONOUN is very down to earth and relatable in PRONOUN music\\n    ', additional_kwargs={}, example=False),\n",
       "  AIMessage(content='Based on the provided anonymized text, the person being described is likely Adele.', additional_kwargs={}, example=False),\n",
       "  HumanMessage(content='Give me 3 unique charecteristics that helped you re-identify the correct person. ', additional_kwargs={}, example=False),\n",
       "  AIMessage(content='1. The mention of the song \"Someone Like You\" is a significant clue, as it is one of Adele\\'s most famous songs.\\n2. The reference to the person being married with a child after losing weight matches Adele\\'s personal life and transformation.\\n3. The description of the person as a songwriter and singer, famous worldwide, with a unique and powerful voice aligns with Adele\\'s career and talent.', additional_kwargs={}, example=False)],\n",
       " 'text': '1. The mention of the song \"Someone Like You\" is a significant clue, as it is one of Adele\\'s most famous songs.\\n2. The reference to the person being married with a child after losing weight matches Adele\\'s personal life and transformation.\\n3. The description of the person as a songwriter and singer, famous worldwide, with a unique and powerful voice aligns with Adele\\'s career and talent.'}"
      ]
     },
     "execution_count": 55,
     "metadata": {},
     "output_type": "execute_result"
    }
   ],
   "source": [
    "conversation(\"Give me 3 unique charecteristics that helped you re-identify the correct person. \")\n"
   ]
  },
  {
   "cell_type": "code",
   "execution_count": 68,
   "metadata": {},
   "outputs": [],
   "source": [
    "conversation = ConversationChain(\n",
    "    llm=chat, \n",
    "    verbose=True, \n",
    "    memory=ConversationBufferMemory(return_messages=True)\n",
    ")"
   ]
  },
  {
   "cell_type": "code",
   "execution_count": 70,
   "metadata": {},
   "outputs": [
    {
     "name": "stdout",
     "output_type": "stream",
     "text": [
      "\n",
      "\n",
      "\u001b[1m> Entering new ConversationChain chain...\u001b[0m\n",
      "Prompt after formatting:\n",
      "\u001b[32;1m\u001b[1;3mThe following is a friendly conversation between a human and an AI. The AI is talkative and provides lots of specific details from its context. If the AI does not know the answer to a question, it truthfully says it does not know.\n",
      "\n",
      "Current conversation:\n",
      "[]\n",
      "Human: Task: please re-identify the person in the following anonymized text.\n",
      "    PERSON_FIRSTNAME_1 is famous for being an LOCATION_1 songwriter and singer. PRONOUN is from LOCATION_3 in LOCATION_2 and this can be heard heavily in PRONOUN accent even while singing. PERSON_LASTNAME_1!e love PRONOUN music and PRONOUN is famous worldwide. PRONOUN performs live and tours the world with an amazing voice. PRONOUN is loved for PRONOUN unique and powerful voice as well as PRONOUN song writing. PRONOUN songs and albums often about breakups and heartache which many people can relate to. NUMERIC_1 of PRONOUN most famous songs is someone like you. PRONOUN is still only young but has numerous albums that hAve become platinum selling. PRONOUN is now happily married with a child after losing a significant amount of weight which many people were shocked by. PRONOUN is very down to earth and relatable in PRONOUN music\n",
      "    \n",
      "AI:\u001b[0m\n",
      "\n",
      "\u001b[1m> Finished chain.\u001b[0m\n"
     ]
    },
    {
     "data": {
      "text/plain": [
       "'Based on the provided information, the person being referred to in the anonymized text is Adele. Adele is famous for being a British songwriter and singer. She is from London, England, and her British accent can be heard in her singing. Adele is loved for her unique and powerful voice as well as her songwriting skills. Her songs often revolve around breakups and heartache, which many people can relate to. One of her most famous songs is \"Someone Like You.\" Adele has released numerous albums that have achieved platinum status. She is now happily married with a child, and she has also undergone a significant weight loss transformation that surprised many people. Despite her fame, Adele is known for being down to earth and relatable in her music.'"
      ]
     },
     "execution_count": 70,
     "metadata": {},
     "output_type": "execute_result"
    }
   ],
   "source": [
    "conversation.predict(input=in_text)"
   ]
  },
  {
   "cell_type": "code",
   "execution_count": null,
   "metadata": {},
   "outputs": [],
   "source": []
  }
 ],
 "metadata": {
  "kernelspec": {
   "display_name": "Python 3",
   "language": "python",
   "name": "python3"
  },
  "orig_nbformat": 4
 },
 "nbformat": 4,
 "nbformat_minor": 2
}
