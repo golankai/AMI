{
 "cells": [
  {
   "cell_type": "code",
   "execution_count": 34,
   "metadata": {},
   "outputs": [],
   "source": [
    "import os\n",
    "import logging\n",
    "import pandas as pd\n",
    "import numpy as np\n",
    "from sklearn.model_selection import train_test_split\n",
    "\n",
    "import torch as th\n",
    "from torch.utils.data import DataLoader, Dataset\n",
    "\n",
    "from transformers import TrainingArguments, RobertaForSequenceClassification\n",
    "\n",
    "from clearml import InputModel\n",
    "\n",
    "from utils import prepare_grader_data, compute_metrics"
   ]
  },
  {
   "cell_type": "code",
   "execution_count": 40,
   "metadata": {},
   "outputs": [
    {
     "data": {
      "text/plain": [
       "<torch._C.Generator at 0x1596caa1870>"
      ]
     },
     "execution_count": 40,
     "metadata": {},
     "output_type": "execute_result"
    }
   ],
   "source": [
    "\n",
    "# Define constants\n",
    "SUDY_NUMBER = 1\n",
    "\n",
    "data_used = \"famous_and_semi\"\n",
    "\n",
    "models_names = [\n",
    "    \"e0eab6ffd27b4b4dbedcc5c435f18742\"\n",
    "]\n",
    "# Set up environment\n",
    "trained_models_path = f\"./anon_grader/trained_models/\"\n",
    "data_dir = f\"textwash_data/study{SUDY_NUMBER}/intruder_test/full_data_study.csv\"\n",
    "results_dir = \"./anon_grader\"\n",
    "\n",
    "DEVICE = \"cuda\" if th.cuda.is_available() else \"cpu\"\n",
    "\n",
    "logging.info(f'Working on device: {DEVICE}')\n",
    "\n",
    "# Cancel wandb logging\n",
    "os.environ[\"WANDB_DISABLED\"] = \"true\"\n",
    "\n",
    "# Set seeds\n",
    "SEED = 42\n",
    "np.random.seed(SEED)\n",
    "th.manual_seed(SEED)\n"
   ]
  },
  {
   "cell_type": "code",
   "execution_count": 41,
   "metadata": {},
   "outputs": [],
   "source": [
    "# Read the data\n",
    "columns_to_read = [\"type\", \"text\", \"file_id\", \"name\", \"got_name_truth_q2\"]\n",
    "raw_data = pd.read_csv(data_dir, usecols=columns_to_read)\n",
    "\n",
    "# Aggregate by file_id and calculate the rate of re-identification\n",
    "data = (\n",
    "    raw_data.groupby([\"type\", \"file_id\", \"name\", \"text\"])\n",
    "    .agg({\"got_name_truth_q2\": \"mean\"})\n",
    "    .reset_index()\n",
    ")\n",
    "data.rename(columns={\"got_name_truth_q2\": \"human_rate\"}, inplace=True)\n",
    "\n",
    "# Define population to use\n",
    "data = data[data[\"type\"].isin([\"famous\", \"semifamous\"])]\n",
    "\n",
    "# Preprocess the data\n",
    "test_dataset = prepare_grader_data(data, SEED, DEVICE)['test']\n",
    "\n",
    "# Create a DataLoader for the test dataset\n",
    "test_dataloader = DataLoader(\n",
    "    test_dataset,\n",
    "    batch_size=64,\n",
    "    shuffle=False,\n",
    "    num_workers=4,\n",
    ")"
   ]
  },
  {
   "cell_type": "code",
   "execution_count": 42,
   "metadata": {},
   "outputs": [
    {
     "name": "stdout",
     "output_type": "stream",
     "text": [
      "<clearml.model.InputModel object at 0x0000015976484FD0>\n"
     ]
    }
   ],
   "source": [
    "# Predict with all models\n",
    "for model_name in models_names:\n",
    "\n",
    "    # Load the model\n",
    "    logging.info(f\"Loading model from {model_name}\")\n",
    "\n",
    "    model = InputModel(model_name)\n",
    "    print(model)\n",
    "#     # model.eval()\n",
    "\n",
    "#     # Prediction\n",
    "#     predictions = []\n",
    "#     for batch in test_dataloader:\n",
    "#         with th.no_grad():\n",
    "#             regression_values = model(**batch).logits.squeeze().cpu().tolist()\n",
    "#         predictions.extend(regression_values)\n",
    "\n",
    "#     # Add predictions to the data\n",
    "#     data[f\"model_{file}\"] = predictions\n",
    "\n",
    "# # Calculate the overall mse for each model\n",
    "# results = {\n",
    "#     model_name: compute_metrics((data[model_name], data[\"human_rate\"]))[\"mse\"]\n",
    "#     for model_name in data.columns[7:]\n",
    "# }"
   ]
  },
  {
   "cell_type": "code",
   "execution_count": 44,
   "metadata": {},
   "outputs": [
    {
     "name": "stderr",
     "output_type": "stream",
     "text": [
      "Action failed <400/201: models.get_by_id/v1.0 (Invalid model id (no such public or company model): id=e0eab6ffd27b4b4dbedcc5c435f18742, company=e1221b134f224b5aa371e46e1e28ce62)> (model=e0eab6ffd27b4b4dbedcc5c435f18742)\n",
      "Failed reloading task e0eab6ffd27b4b4dbedcc5c435f18742\n"
     ]
    },
    {
     "ename": "AttributeError",
     "evalue": "'NoneType' object has no attribute 'system_tags'",
     "output_type": "error",
     "traceback": [
      "\u001b[1;31m---------------------------------------------------------------------------\u001b[0m",
      "\u001b[1;31mAttributeError\u001b[0m                            Traceback (most recent call last)",
      "Cell \u001b[1;32mIn[44], line 1\u001b[0m\n\u001b[1;32m----> 1\u001b[0m model\u001b[39m.\u001b[39;49mget_local_copy()\n",
      "File \u001b[1;32mc:\\Users\\golan\\anaconda3\\envs\\AMI\\Lib\\site-packages\\clearml\\model.py:1291\u001b[0m, in \u001b[0;36mModel.get_local_copy\u001b[1;34m(self, extract_archive, raise_on_error, force_download)\u001b[0m\n\u001b[0;32m   1272\u001b[0m \u001b[39mdef\u001b[39;00m \u001b[39mget_local_copy\u001b[39m(\n\u001b[0;32m   1273\u001b[0m     \u001b[39mself\u001b[39m, extract_archive\u001b[39m=\u001b[39m\u001b[39mTrue\u001b[39;00m, raise_on_error\u001b[39m=\u001b[39m\u001b[39mFalse\u001b[39;00m, force_download\u001b[39m=\u001b[39m\u001b[39mFalse\u001b[39;00m\n\u001b[0;32m   1274\u001b[0m ):\n\u001b[0;32m   1275\u001b[0m     \u001b[39m# type: (bool, bool, bool) -> str\u001b[39;00m\n\u001b[0;32m   1276\u001b[0m \u001b[39m    \u001b[39m\u001b[39m\"\"\"\u001b[39;00m\n\u001b[0;32m   1277\u001b[0m \u001b[39m    Retrieve a valid link to the model file(s).\u001b[39;00m\n\u001b[0;32m   1278\u001b[0m \u001b[39m    If the model URL is a file system link, it will be returned directly.\u001b[39;00m\n\u001b[1;32m   (...)\u001b[0m\n\u001b[0;32m   1289\u001b[0m \u001b[39m    :return: A local path to the model (or a downloaded copy of it).\u001b[39;00m\n\u001b[0;32m   1290\u001b[0m \u001b[39m    \"\"\"\u001b[39;00m\n\u001b[1;32m-> 1291\u001b[0m     \u001b[39mif\u001b[39;00m extract_archive \u001b[39mand\u001b[39;00m \u001b[39mself\u001b[39;49m\u001b[39m.\u001b[39;49m_is_package():\n\u001b[0;32m   1292\u001b[0m         \u001b[39mreturn\u001b[39;00m \u001b[39mself\u001b[39m\u001b[39m.\u001b[39mget_weights_package(\n\u001b[0;32m   1293\u001b[0m             return_path\u001b[39m=\u001b[39m\u001b[39mTrue\u001b[39;00m,\n\u001b[0;32m   1294\u001b[0m             raise_on_error\u001b[39m=\u001b[39mraise_on_error,\n\u001b[0;32m   1295\u001b[0m             force_download\u001b[39m=\u001b[39mforce_download,\n\u001b[0;32m   1296\u001b[0m         )\n\u001b[0;32m   1297\u001b[0m     \u001b[39mreturn\u001b[39;00m \u001b[39mself\u001b[39m\u001b[39m.\u001b[39mget_weights(\n\u001b[0;32m   1298\u001b[0m         raise_on_error\u001b[39m=\u001b[39mraise_on_error, force_download\u001b[39m=\u001b[39mforce_download\n\u001b[0;32m   1299\u001b[0m     )\n",
      "File \u001b[1;32mc:\\Users\\golan\\anaconda3\\envs\\AMI\\Lib\\site-packages\\clearml\\model.py:1090\u001b[0m, in \u001b[0;36mBaseModel._is_package\u001b[1;34m(self)\u001b[0m\n\u001b[0;32m   1089\u001b[0m \u001b[39mdef\u001b[39;00m \u001b[39m_is_package\u001b[39m(\u001b[39mself\u001b[39m):\n\u001b[1;32m-> 1090\u001b[0m     \u001b[39mreturn\u001b[39;00m \u001b[39mself\u001b[39m\u001b[39m.\u001b[39m_package_tag \u001b[39min\u001b[39;00m (\u001b[39mself\u001b[39;49m\u001b[39m.\u001b[39;49msystem_tags \u001b[39mor\u001b[39;00m [])\n",
      "File \u001b[1;32mc:\\Users\\golan\\anaconda3\\envs\\AMI\\Lib\\site-packages\\clearml\\model.py:276\u001b[0m, in \u001b[0;36mBaseModel.system_tags\u001b[1;34m(self)\u001b[0m\n\u001b[0;32m    270\u001b[0m \u001b[39m\u001b[39m\u001b[39m\"\"\"\u001b[39;00m\n\u001b[0;32m    271\u001b[0m \u001b[39mA list of system tags describing the model.\u001b[39;00m\n\u001b[0;32m    272\u001b[0m \n\u001b[0;32m    273\u001b[0m \u001b[39m:return: The list of tags.\u001b[39;00m\n\u001b[0;32m    274\u001b[0m \u001b[39m\"\"\"\u001b[39;00m\n\u001b[0;32m    275\u001b[0m data \u001b[39m=\u001b[39m \u001b[39mself\u001b[39m\u001b[39m.\u001b[39m_get_model_data()\n\u001b[1;32m--> 276\u001b[0m \u001b[39mreturn\u001b[39;00m data\u001b[39m.\u001b[39;49msystem_tags \u001b[39mif\u001b[39;00m Session\u001b[39m.\u001b[39mcheck_min_api_version(\u001b[39m\"\u001b[39m\u001b[39m2.3\u001b[39m\u001b[39m\"\u001b[39m) \u001b[39melse\u001b[39;00m data\u001b[39m.\u001b[39mtags\n",
      "\u001b[1;31mAttributeError\u001b[0m: 'NoneType' object has no attribute 'system_tags'"
     ]
    }
   ],
   "source": [
    "model.get_local_copy()"
   ]
  },
  {
   "cell_type": "code",
   "execution_count": null,
   "metadata": {},
   "outputs": [],
   "source": []
  },
  {
   "cell_type": "code",
   "execution_count": null,
   "metadata": {},
   "outputs": [],
   "source": []
  }
 ],
 "metadata": {
  "kernelspec": {
   "display_name": "Python 3",
   "language": "python",
   "name": "python3"
  },
  "language_info": {
   "codemirror_mode": {
    "name": "ipython",
    "version": 3
   },
   "file_extension": ".py",
   "mimetype": "text/x-python",
   "name": "python",
   "nbconvert_exporter": "python",
   "pygments_lexer": "ipython3",
   "version": "3.11.4"
  },
  "orig_nbformat": 4
 },
 "nbformat": 4,
 "nbformat_minor": 2
}
