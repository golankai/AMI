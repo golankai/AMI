{
 "cells": [
  {
   "cell_type": "code",
   "execution_count": 1,
   "metadata": {},
   "outputs": [],
   "source": [
    "import os\n",
    "import logging\n",
    "import pandas as pd\n",
    "import numpy as np\n",
    "from sklearn.model_selection import train_test_split\n",
    "\n",
    "import torch as th\n",
    "from torch.utils.data import DataLoader, Dataset\n",
    "\n",
    "from transformers import TrainingArguments, RobertaForSequenceClassification\n",
    "\n",
    "from clearml import Task\n",
    "\n",
    "\n",
    "from utils import prepare_grader_data, compute_metrics"
   ]
  },
  {
   "cell_type": "code",
   "execution_count": 2,
   "metadata": {},
   "outputs": [
    {
     "data": {
      "text/plain": [
       "<torch._C.Generator at 0x1b794ac1890>"
      ]
     },
     "execution_count": 2,
     "metadata": {},
     "output_type": "execute_result"
    }
   ],
   "source": [
    "# Define constants\n",
    "SUDY_NUMBER = 1\n",
    "data_used = \"famous_and_semi\"\n",
    "EXPERIMENT_NAME = f'eval_study_{SUDY_NUMBER}_{data_used}'\n",
    "\n",
    "\n",
    "# Set up environment\n",
    "trained_models_path = f\"./anon_grader/trained_models/\"\n",
    "data_dir = f\"textwash_data/study{SUDY_NUMBER}/intruder_test/full_data_study.csv\"\n",
    "PRED_PATH = \"./anon_grader/results/predictions_\" + data_used + \".csv\"\n",
    "RESULTS_PATH = \"./anon_grader/results/results_\" + data_used + \".csv\"\n",
    "\n",
    "DEVICE = \"cuda\" if th.cuda.is_available() else \"cpu\"\n",
    "\n",
    "logging.info(f'Working on device: {DEVICE}')\n",
    "\n",
    "# Cancel wandb logging\n",
    "os.environ[\"WANDB_DISABLED\"] = \"true\"\n",
    "\n",
    "\n",
    "# Set seeds\n",
    "SEED = 42\n",
    "np.random.seed(SEED)\n",
    "th.manual_seed(SEED)\n",
    "\n"
   ]
  },
  {
   "cell_type": "code",
   "execution_count": 3,
   "metadata": {},
   "outputs": [],
   "source": [
    "# Read the data\n",
    "columns_to_read = [\"type\", \"text\", \"file_id\", \"name\", \"got_name_truth_q2\"]\n",
    "raw_data = pd.read_csv(data_dir, usecols=columns_to_read)\n",
    "\n",
    "# Aggregate by file_id and calculate the rate of re-identification\n",
    "data = (\n",
    "    raw_data.groupby([\"type\", \"file_id\", \"name\", \"text\"])\n",
    "    .agg({\"got_name_truth_q2\": \"mean\"})\n",
    "    .reset_index()\n",
    ")\n",
    "data.rename(columns={\"got_name_truth_q2\": \"human_rate\"}, inplace=True)\n",
    "\n",
    "# Define population to use\n",
    "data = data[data[\"type\"].isin([\"famous\", \"semifamous\"])]\n",
    "\n",
    "# Preprocess the data\n",
    "test_dataset = prepare_grader_data(data, SEED, DEVICE)['test']\n",
    "\n",
    "# Create a DataLoader for the test dataset\n",
    "test_dataloader = DataLoader(\n",
    "    test_dataset,\n",
    "    batch_size=64,\n",
    "    shuffle=False,\n",
    "    num_workers=4,\n",
    ")"
   ]
  },
  {
   "cell_type": "code",
   "execution_count": 21,
   "metadata": {},
   "outputs": [],
   "source": [
    "# Read the data\n",
    "columns_to_read = [\"type\", \"text\", \"file_id\", \"name\", \"got_name_truth_q2\"]\n",
    "raw_data = pd.read_csv(data_dir, usecols=columns_to_read)\n",
    "\n",
    "# Aggregate by file_id and calculate the rate of re-identification\n",
    "data = (\n",
    "    raw_data.groupby([\"type\", \"file_id\", \"name\", \"text\"])\n",
    "    .agg({\"got_name_truth_q2\": \"mean\"})\n",
    "    .reset_index()\n",
    ")\n",
    "data.rename(columns={\"got_name_truth_q2\": \"human_rate\"}, inplace=True)\n",
    "\n",
    "# Define population to use\n",
    "data = data[data[\"type\"].isin([\"famous\", \"semifamous\"])]\n",
    "\n",
    "# Preprocess the data\n",
    "test_dataset = prepare_grader_data(data, SEED, DEVICE)['test']\n",
    "\n",
    "# Create a DataLoader for the test dataset\n",
    "test_dataloader = iter(DataLoader(\n",
    "    test_dataset,\n",
    "    batch_size=64,\n",
    "    shuffle=False,\n",
    "))"
   ]
  },
  {
   "cell_type": "code",
   "execution_count": 22,
   "metadata": {},
   "outputs": [],
   "source": [
    "batches = [batch for batch in test_dataloader]\n",
    "batch = batches[0]"
   ]
  },
  {
   "cell_type": "code",
   "execution_count": 23,
   "metadata": {},
   "outputs": [
    {
     "data": {
      "text/plain": [
       "dict"
      ]
     },
     "execution_count": 23,
     "metadata": {},
     "output_type": "execute_result"
    }
   ],
   "source": [
    "type(batch)"
   ]
  },
  {
   "cell_type": "code",
   "execution_count": null,
   "metadata": {},
   "outputs": [],
   "source": [
    "# Load model\n",
    "model = RobertaForSequenceClassification.from_pretrained("
   ]
  }
 ],
 "metadata": {
  "kernelspec": {
   "display_name": "Python 3",
   "language": "python",
   "name": "python3"
  },
  "language_info": {
   "codemirror_mode": {
    "name": "ipython",
    "version": 3
   },
   "file_extension": ".py",
   "mimetype": "text/x-python",
   "name": "python",
   "nbconvert_exporter": "python",
   "pygments_lexer": "ipython3",
   "version": "3.11.4"
  },
  "orig_nbformat": 4
 },
 "nbformat": 4,
 "nbformat_minor": 2
}
