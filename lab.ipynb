{
 "cells": [
  {
   "cell_type": "code",
   "execution_count": 30,
   "metadata": {},
   "outputs": [],
   "source": [
    "import pandas as pd\n",
    "\n",
    "from utils import compute_metrics"
   ]
  },
  {
   "cell_type": "code",
   "execution_count": 37,
   "metadata": {},
   "outputs": [],
   "source": [
    "path = \"Predictions df (1).csv\\Predictions%20df.24cmnknn.csv\"\n",
    "df = pd.read_csv(path)\n",
    "df = df.drop(columns=[\"Unnamed: 0\"])"
   ]
  },
  {
   "cell_type": "code",
   "execution_count": 38,
   "metadata": {},
   "outputs": [],
   "source": [
    "df = df[df[\"type\"] == \"famous\"]"
   ]
  },
  {
   "cell_type": "code",
   "execution_count": 40,
   "metadata": {},
   "outputs": [],
   "source": [
    "results = {\n",
    "    model_name: compute_metrics(\n",
    "        (list(df[model_name]), list(df[\"human_rate\"])),\n",
    "        only_mse=True,\n",
    "    )\n",
    "    for model_name in df.columns[5:]   \n",
    "}\n"
   ]
  },
  {
   "cell_type": "code",
   "execution_count": 41,
   "metadata": {},
   "outputs": [
    {
     "data": {
      "text/plain": [
       "{'model_study_1_famous_classifier': {'rmse': 0.37,\n",
       "  'avg_pred': 0.41,\n",
       "  'spearman': 0.5},\n",
       " 'model_study_1_famous_and_semi_class_epochs_20': {'rmse': 0.37,\n",
       "  'avg_pred': 0.28,\n",
       "  'spearman': 0.46},\n",
       " 'model_study_1_famous_and_semi_classifier': {'rmse': 0.39,\n",
       "  'avg_pred': 0.27,\n",
       "  'spearman': 0.25},\n",
       " 'model_study_1_famous_and_semi_class_and_11_epochs_20': {'rmse': 0.29,\n",
       "  'avg_pred': 0.26,\n",
       "  'spearman': 0.71},\n",
       " 'model_study_1_all_classifier_epochs_5': {'rmse': 0.39,\n",
       "  'avg_pred': 0.28,\n",
       "  'spearman': 0.25},\n",
       " 'model_study_1_famous_and_semi_class_epochs_1': {'rmse': 0.41,\n",
       "  'avg_pred': 0.23,\n",
       "  'spearman': 0.19},\n",
       " 'model_study_1_famous_and_semi_class_epochs_5': {'rmse': 0.39,\n",
       "  'avg_pred': 0.27,\n",
       "  'spearman': 0.25},\n",
       " 'model_study_1_famous_and_semi_class_and_11_epochs_5': {'rmse': 0.33,\n",
       "  'avg_pred': 0.24,\n",
       "  'spearman': 0.68}}"
      ]
     },
     "execution_count": 41,
     "metadata": {},
     "output_type": "execute_result"
    }
   ],
   "source": [
    "results"
   ]
  },
  {
   "cell_type": "code",
   "execution_count": null,
   "metadata": {},
   "outputs": [],
   "source": []
  }
 ],
 "metadata": {
  "language_info": {
   "name": "python"
  },
  "orig_nbformat": 4
 },
 "nbformat": 4,
 "nbformat_minor": 2
}
