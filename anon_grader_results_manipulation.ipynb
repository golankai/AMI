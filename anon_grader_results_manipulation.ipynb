{
 "cells": [
  {
   "cell_type": "code",
   "execution_count": 10,
   "metadata": {},
   "outputs": [],
   "source": [
    "import numpy as np\n",
    "import pandas as pd\n",
    "import torch as th\n",
    "import os\n",
    "\n",
    "from utils import prepare_grader_data, read_data_for_grader, compute_metrics, get_exp_name\n"
   ]
  },
  {
   "cell_type": "code",
   "execution_count": 11,
   "metadata": {},
   "outputs": [],
   "source": [
    "SUDY_NUMBER = 1\n",
    "DATA_USED = \"famous\"\n",
    "\n",
    "# Set up environment\n",
    "should_handle_data = True\n",
    "PRED_PATH2SAVE = (\n",
    "    f\"./anon_grader/results/predictions_{SUDY_NUMBER}_{DATA_USED}_w_few_shot.csv\"\n",
    ")\n",
    "RESULTS_PATH2SAVE = (\n",
    "    f\"./anon_grader/results/results_{SUDY_NUMBER}_{DATA_USED}_w_few_shot.csv\"\n",
    ")\n",
    "\n",
    "# Set seeds\n",
    "SEED = 111\n",
    "np.random.seed(SEED)\n",
    "th.manual_seed(SEED)\n",
    "\n",
    "# If alreday have predictions with few-shot, read them\n",
    "if os.path.exists(PRED_PATH2SAVE):\n",
    "    predictions = pd.read_csv(PRED_PATH2SAVE, index_col=0)\n",
    "    results = pd.read_csv(RESULTS_PATH2SAVE, index_col=0).to_dict(orient=\"index\")"
   ]
  },
  {
   "cell_type": "code",
   "execution_count": 13,
   "metadata": {},
   "outputs": [],
   "source": [
    "# Copy the predictions and results, we will save them under a different name\n",
    "PRED_PATH2SAVE = (\n",
    "    f\"./anon_grader/results/predictions_{SUDY_NUMBER}_{DATA_USED}_w_few_shot_manipulation.csv\"\n",
    ")\n",
    "RESULTS_PATH2SAVE = (\n",
    "    f\"./anon_grader/results/results_{SUDY_NUMBER}_{DATA_USED}_w_few_shot_manipulation.csv\"\n",
    ")"
   ]
  },
  {
   "cell_type": "code",
   "execution_count": 26,
   "metadata": {},
   "outputs": [],
   "source": [
    "# RoBERTa_man will be the RoBERTa predictions minus X, clipepd between 0 and 1\n",
    "predictions[\"RoBERTa_man\"] = np.clip(predictions[\"RoBERTa\"] - 0.05, 0, 1)\n",
    "\n",
    "predictions[\"Role4_man\"] = np.clip(predictions[\"Role4\"] - 0.5, 0, 1)"
   ]
  },
  {
   "cell_type": "code",
   "execution_count": 27,
   "metadata": {},
   "outputs": [],
   "source": [
    "results.update(\n",
    "    {\n",
    "        \"RoBERTa_man\": compute_metrics(\n",
    "            (list(predictions[\"RoBERTa_man\"]), list(predictions[\"human_rate\"])), only_mse=False,\n",
    "        ),\n",
    "        \"Role4_man\": compute_metrics(\n",
    "            (list(predictions[\"Role4_man\"]), list(predictions[\"human_rate\"])), only_mse=False,\n",
    "        ),\n",
    "    }\n",
    ")\n"
   ]
  },
  {
   "cell_type": "code",
   "execution_count": 28,
   "metadata": {},
   "outputs": [
    {
     "data": {
      "text/plain": [
       "{'data': {'rmse': 0.0, 'avg_pred': 0.39, 'spearman': 1.0},\n",
       " 'RoBERTa': {'rmse': 0.39, 'avg_pred': 0.46, 'spearman': 0.38},\n",
       " 'zero_shot': {'rmse': 0.49, 'avg_pred': 0.61, 'spearman': 0.09},\n",
       " 'multi_persona': {'rmse': 0.44, 'avg_pred': 0.41, 'spearman': 0.16},\n",
       " 'one_shot_0': {'rmse': 0.46, 'avg_pred': 0.55, 'spearman': 0.19},\n",
       " 'one_shot_1': {'rmse': 0.46, 'avg_pred': 0.55, 'spearman': 0.11},\n",
       " 'three_shot': {'rmse': 0.44, 'avg_pred': 0.34, 'spearman': 0.08},\n",
       " 'CoT': {'rmse': 0.7, 'avg_pred': 0.9, 'spearman': -0.05},\n",
       " 'self_const_zero_shot': {'rmse': 0.5, 'avg_pred': 0.67, 'spearman': 0.06},\n",
       " 'self_const_three_shot': {'rmse': 0.42, 'avg_pred': 0.39, 'spearman': 0.1},\n",
       " 'Role1': {'rmse': 0.56, 'avg_pred': 0.64, 'spearman': 0.03},\n",
       " 'Role2': {'rmse': 0.61, 'avg_pred': 0.79, 'spearman': 0.04},\n",
       " 'Role3': {'rmse': 0.6, 'avg_pred': 0.75, 'spearman': 0.12},\n",
       " 'Role4': {'rmse': 0.59, 'avg_pred': 0.81, 'spearman': 0.29},\n",
       " 'Roles': {'rmse': 0.55, 'avg_pred': 0.75, 'spearman': 0.2},\n",
       " 'RoBERTa_man': {'rmse': 0.39, 'avg_pred': 0.41, 'spearman': 0.38},\n",
       " 'Role4_man': {'rmse': 0.41, 'avg_pred': 0.34, 'spearman': 0.28}}"
      ]
     },
     "execution_count": 28,
     "metadata": {},
     "output_type": "execute_result"
    }
   ],
   "source": [
    "results"
   ]
  },
  {
   "cell_type": "code",
   "execution_count": 29,
   "metadata": {},
   "outputs": [],
   "source": [
    "# Save the predictions and results\n",
    "predictions.to_csv(PRED_PATH2SAVE)\n",
    "results_df = pd.DataFrame.from_dict(results, orient=\"columns\").T\n",
    "results_df.to_csv(RESULTS_PATH2SAVE)\n"
   ]
  },
  {
   "cell_type": "code",
   "execution_count": null,
   "metadata": {},
   "outputs": [],
   "source": []
  }
 ],
 "metadata": {
  "kernelspec": {
   "display_name": "AMI",
   "language": "python",
   "name": "python3"
  },
  "language_info": {
   "codemirror_mode": {
    "name": "ipython",
    "version": 3
   },
   "file_extension": ".py",
   "mimetype": "text/x-python",
   "name": "python",
   "nbconvert_exporter": "python",
   "pygments_lexer": "ipython3",
   "version": "3.11.4"
  },
  "orig_nbformat": 4
 },
 "nbformat": 4,
 "nbformat_minor": 2
}
