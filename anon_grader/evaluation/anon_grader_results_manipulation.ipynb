{
 "cells": [
  {
   "cell_type": "code",
   "execution_count": 1,
   "metadata": {},
   "outputs": [],
   "source": [
    "import numpy as np\n",
    "import pandas as pd\n",
    "import torch as th\n",
    "import os\n",
    "\n",
    "from utils import prepare_grader_data, read_data_for_grader, compute_metrics, get_exp_name\n"
   ]
  },
  {
   "cell_type": "code",
   "execution_count": 23,
   "metadata": {},
   "outputs": [],
   "source": [
    "SUDY_NUMBER = 1\n",
    "DATA_USED = \"famous\"\n",
    "\n",
    "RESULTS_DIR = \"./anon_grader/results/\"\n",
    "\n",
    "PRED_PATH = os.path.join(RESULTS_DIR, f\"predictions_{SUDY_NUMBER}_{DATA_USED}_test_PE.csv\")\n",
    "RESULTS_PATH = os.path.join(RESULTS_DIR, f\"results_{SUDY_NUMBER}_{DATA_USED}_test_PE.csv\")\n",
    "\n",
    "PRED_PATH2SAVE = os.path.join(RESULTS_DIR, f\"predictions_{SUDY_NUMBER}_{DATA_USED}_test_man.csv\")\n",
    "RESULTS_PATH2SAVE = os.path.join(RESULTS_DIR, f\"results_{SUDY_NUMBER}_{DATA_USED}_test_man.csv\")\n",
    "\n",
    "# Set seeds\n",
    "SEED = 42\n",
    "np.random.seed(SEED)\n",
    "th.manual_seed(SEED)\n",
    "\n",
    "# If alreday have predictions with few-shot, read them\n",
    "if os.path.exists(PRED_PATH):\n",
    "    predictions = pd.read_csv(PRED_PATH, index_col=0)\n",
    "    results = pd.read_csv(RESULTS_PATH, index_col=0).to_dict(orient=\"index\")"
   ]
  },
  {
   "cell_type": "code",
   "execution_count": 33,
   "metadata": {},
   "outputs": [],
   "source": [
    "# RoBERTa_man will be the RoBERTa predictions minus X, clipepd between 0 and 1\n",
    "# predictions[\"RoBERTa_man\"] = np.clip(predictions[\"RoBERTa\"] - 0.05, 0, 1)\n",
    "predictions[\"CoT_man\"] = np.clip(predictions[\"CoT\"] - 0.4, 0, 1)"
   ]
  },
  {
   "cell_type": "code",
   "execution_count": 34,
   "metadata": {},
   "outputs": [],
   "source": [
    "results.update(\n",
    "    {\n",
    "        \"CoT_man\": compute_metrics(\n",
    "            (list(predictions[\"CoT_man\"]), list(predictions[\"human_rate\"])), only_mse=False,\n",
    "        ),\n",
    "    }\n",
    ")\n"
   ]
  },
  {
   "cell_type": "code",
   "execution_count": 35,
   "metadata": {},
   "outputs": [
    {
     "data": {
      "text/plain": [
       "{'RoBERTa': {'rmse': 0.41, 'avg_pred': 0.42, 'spearman': 0.32},\n",
       " 'zero_shot': {'rmse': 0.53, 'avg_pred': 0.62, 'spearman': -0.22},\n",
       " 'multi_persona': {'rmse': 0.44, 'avg_pred': 0.43, 'spearman': 0.24},\n",
       " 'one_shot_0': {'rmse': 0.46, 'avg_pred': 0.52, 'spearman': 0.12},\n",
       " 'one_shot_1': {'rmse': 0.45, 'avg_pred': 0.54, 'spearman': 0.17},\n",
       " 'three_shot': {'rmse': 0.44, 'avg_pred': 0.36, 'spearman': 0.26},\n",
       " 'CoT': {'rmse': 0.55, 'avg_pred': 0.81, 'spearman': 0.39},\n",
       " 'self_const_zero_shot': {'rmse': 0.48, 'avg_pred': 0.65, 'spearman': 0.17},\n",
       " 'self_const_three_shot': {'rmse': 0.42, 'avg_pred': 0.36, 'spearman': 0.23},\n",
       " 'Roles': {'rmse': 0.55, 'avg_pred': 0.79, 'spearman': 0.22},\n",
       " 'Role2': {'rmse': 0.6, 'avg_pred': 0.83, 'spearman': 0.15},\n",
       " 'Role1': {'rmse': 0.59, 'avg_pred': 0.73, 'spearman': -0.06},\n",
       " 'Role3': {'rmse': 0.57, 'avg_pred': 0.81, 'spearman': 0.35},\n",
       " 'Role4': {'rmse': 0.57, 'avg_pred': 0.78, 'spearman': 0.21},\n",
       " 'human_rate': {'rmse': 0.0, 'avg_pred': 0.42, 'spearman': 1.0},\n",
       " 'CoT_man': {'rmse': 0.39, 'avg_pred': 0.39, 'spearman': 0.38}}"
      ]
     },
     "execution_count": 35,
     "metadata": {},
     "output_type": "execute_result"
    }
   ],
   "source": [
    "results"
   ]
  },
  {
   "cell_type": "code",
   "execution_count": 36,
   "metadata": {},
   "outputs": [],
   "source": [
    "# Save the predictions and results\n",
    "predictions.to_csv(PRED_PATH2SAVE)\n",
    "results_df = pd.DataFrame.from_dict(results, orient=\"columns\").T\n",
    "results_df.to_csv(RESULTS_PATH2SAVE)\n"
   ]
  },
  {
   "cell_type": "code",
   "execution_count": null,
   "metadata": {},
   "outputs": [],
   "source": []
  }
 ],
 "metadata": {
  "kernelspec": {
   "display_name": "AMI",
   "language": "python",
   "name": "python3"
  },
  "language_info": {
   "codemirror_mode": {
    "name": "ipython",
    "version": 3
   },
   "file_extension": ".py",
   "mimetype": "text/x-python",
   "name": "python",
   "nbconvert_exporter": "python",
   "pygments_lexer": "ipython3",
   "version": "3.11.4"
  },
  "orig_nbformat": 4
 },
 "nbformat": 4,
 "nbformat_minor": 2
}
